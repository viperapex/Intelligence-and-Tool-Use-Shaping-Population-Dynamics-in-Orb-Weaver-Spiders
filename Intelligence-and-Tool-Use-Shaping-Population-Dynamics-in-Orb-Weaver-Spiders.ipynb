{
 "cells": [
  {
   "cell_type": "markdown",
   "id": "a2123613",
   "metadata": {},
   "source": [
    "## 1. Introduction"
   ]
  },
  {
   "cell_type": "markdown",
   "id": "1edac8ba",
   "metadata": {},
   "source": [
    "In this notebook, we investigate and simulate the physics of the catapulting mechanism observed in Philoponella prominens, also known as orb-weaver spiders, and explore how this behavior influences post-coital survival of males and the resulting population dynamics within a colony. The first section discusses findings and laboratory experiments conducted by researchers. In the mid-section, we simulate the physics behind the catapult mechanism, followed by population-level simulations of the spiders.\n",
    "\n",
    "Beyond biomechanics, this work also highlights the remarkable evidence of intelligence and tool use in orb-weaver spiders. Male spiders not only rely on their catapulting escape but also make adaptive use of silk safety lines as anchoring tools, demonstrating problem-solving strategies that enhance survival and reproductive success. By integrating physics, population dynamics, and cognitive behavior, this notebook provides a broader view of how such intelligent adaptations shape evolutionary outcomes in these spiders."
   ]
  },
  {
   "cell_type": "markdown",
   "id": "2ba87c98",
   "metadata": {},
   "source": [
    "## 2. An Overview of Spider Biology and Ecology"
   ]
  },
  {
   "cell_type": "code",
   "execution_count": 1,
   "id": "a98519b6",
   "metadata": {},
   "outputs": [
    {
     "data": {
      "text/html": [
       "<img src=\"imgs/generic_spider_morphology.jpg\" width=\"500\" height=\"300\"/>"
      ],
      "text/plain": [
       "<IPython.core.display.Image object>"
      ]
     },
     "execution_count": 1,
     "metadata": {},
     "output_type": "execute_result"
    }
   ],
   "source": [
    "from IPython.display import Image\n",
    "Image(url='imgs/generic_spider_morphology.jpg', width=500, height=300)"
   ]
  },
  {
   "cell_type": "markdown",
   "id": "afe17059",
   "metadata": {},
   "source": [
    "### 2.1  Morphology of Spiders "
   ]
  },
  {
   "cell_type": "markdown",
   "id": "a9c00fdf",
   "metadata": {},
   "source": [
    "Spiders belong to the class Arachnida and to the order Araneae. As of November 2023, taxonomists have recoded 51673 spider species belonging to 136 families. Spiders are considered the seventh most diverse order of all organisms.In all suborders except the primitive suborder the Mesothelae, spiders have the most centralized nervous system of all arthorpods. Spider are anatomically different from other arthropods as well; their body is divided into two segments cephalothorax and abdomen, whereas the body of other  arthropods(insects) is divided into three segments: head thorax and abdomen,they do not have wings and antennae like other insects. Spiders also have a hard exoskeleton and appendages with multiple joints, which allows them to move with precision and agility. The hard exoskeleton provides protection against predetors and natural forces. The appendages, which consists of legs and pedipalps which are crucial for locomotion, capturing the prey, sensing the enviornment and facilitating reproduction. The anterior part of the spider also has specialised appendages called chelicera which essentially are mouthparts of spider and often reffered as jaws or fangs, which enable the spider to hold onto the prey and inject venom through the tips of the fangs. Spider venom falls into two categories neurotoxic (impairing the nervous system) or neurotic (dissolving tissues around the bite) In some cases the venom targets vital organs too. Spiders have both venom and silk glands. The abdomen also bears appendages that consists of spinnerets that extrude silk from the silk glands."
   ]
  },
  {
   "cell_type": "markdown",
   "id": "31cb3722",
   "metadata": {},
   "source": [
    "### 2.2 Predation and Biodiversity"
   ]
  },
  {
   "cell_type": "markdown",
   "id": "6b35f498",
   "metadata": {},
   "source": [
    "Spiders have eyes in the anterior section of their body.Eyes are instrumental in hunting and web building and determining spiders orientation in world space. Statistics show that 99% of spiders have eight eyes. Some spiders have six, four or two eyes and a few species even have vestigial eys or none at all. Spiders are predators, feeding almost entirely on other arthropods, especially insects. Spiders use a variety of methods to capture prey some spiders build traps using webs while others are active hunters who chase and overpower their prey in doing so they play a very important ecological role in maintaining the balance if various ecosystems by controlling insect populations, thus preventing outbreaks  that could harm other species. Their presence promotes biodiversity and ensures the overall health of natural environments. Spiders are grouped in various genera, which include species like wolf spiders, hunting spiders, sac-spiders, Orb-weaver spiders(circular webs) and funnel web spiders."
   ]
  },
  {
   "cell_type": "code",
   "execution_count": 2,
   "id": "d0ff3263",
   "metadata": {},
   "outputs": [
    {
     "data": {
      "text/html": [
       "<img src=\"imgs/dorsal_ventral_view_m_f_orb.png\" width=\"500\" height=\"350\"/>"
      ],
      "text/plain": [
       "<IPython.core.display.Image object>"
      ]
     },
     "execution_count": 2,
     "metadata": {},
     "output_type": "execute_result"
    }
   ],
   "source": [
    "Image(url='imgs/dorsal_ventral_view_m_f_orb.png', width=500, height=350)"
   ]
  },
  {
   "cell_type": "markdown",
   "id": "c7d6d71f",
   "metadata": {},
   "source": [
    "## 3. Catapulting behavior and cannibalism in Orb-Weaver Spiders"
   ]
  },
  {
   "cell_type": "markdown",
   "id": "c384a582",
   "metadata": {},
   "source": [
    "Reserchers observed a novel manuevering mechanism in the communal orb-weaving spider Philoponella prominens (Uloboridae) which is part of a family known as the hackled orb weavers. They obseved that the male spiders of the species catapult themselves off of the much larger female spiders using their front pair of legs after mating in order to avoid being cannibalized by the female. If they fail to escape, the female spiders mummify the males by wrapping them in silk as these spiders don’t have venom in them. The female spiders wrap the males tightly enough that their legs break and they either are crushed to death or die of suffocation. The males also setup an anchored safety web-line before mating. The safety line may prevent the male from dropping, and ensures that it can climb back to the female web for further mating attempts.\n",
    "\n",
    "(A) Female dorsal view. (B) Female ventral view. (C)Male lateral view.\n",
    "(D) Male ventral view. (E) A colonial web complex of P. prominens (white arrows indicate the spiders).\n",
    "(F) A mating pair of P. prominens with the male spider's safety line (white arrows)\n",
    "(SN) Zoomed image of P. prominens mating"
   ]
  },
  {
   "cell_type": "code",
   "execution_count": 3,
   "id": "5edda145",
   "metadata": {},
   "outputs": [
    {
     "data": {
      "text/html": [
       "<img src=\"imgs/safety_line_mating.png\" width=\"500\" height=\"350\"/>"
      ],
      "text/plain": [
       "<IPython.core.display.Image object>"
      ]
     },
     "execution_count": 3,
     "metadata": {},
     "output_type": "execute_result"
    }
   ],
   "source": [
    "Image(url='imgs/safety_line_mating.png', width=500, height=350)"
   ]
  },
  {
   "cell_type": "code",
   "execution_count": 4,
   "id": "c3b03c3a",
   "metadata": {},
   "outputs": [
    {
     "data": {
      "text/html": [
       "<img src=\"imgs/orb-weaver_mating.jpg\" width=\"500\" height=\"350\"/>"
      ],
      "text/plain": [
       "<IPython.core.display.Image object>"
      ]
     },
     "execution_count": 4,
     "metadata": {},
     "output_type": "execute_result"
    }
   ],
   "source": [
    "Image(url='imgs/orb-weaver_mating.jpg', width=500, height=350)"
   ]
  },
  {
   "cell_type": "code",
   "execution_count": 5,
   "id": "4acb6614",
   "metadata": {
    "scrolled": true
   },
   "outputs": [
    {
     "data": {
      "text/html": [
       "<iframe width=\"600\" height=\"350\" src=\"https://www.youtube.com/embed/j4DdbTiF00U?si=L7F4d3o89rXsDYz9\" title=\"YouTube video player\" frameborder=\"0\" allow=\"accelerometer; autoplay; clipboard-write; encrypted-media; gyroscope; picture-in-picture; web-share\" allowfullscreen></iframe>\n"
      ],
      "text/plain": [
       "<IPython.core.display.HTML object>"
      ]
     },
     "metadata": {},
     "output_type": "display_data"
    }
   ],
   "source": [
    "%%HTML\n",
    "<iframe width=\"600\" height=\"350\" src=\"https://www.youtube.com/embed/j4DdbTiF00U?si=L7F4d3o89rXsDYz9\" title=\"YouTube video player\" frameborder=\"0\" allow=\"accelerometer; autoplay; clipboard-write; encrypted-media; gyroscope; picture-in-picture; web-share\" allowfullscreen></iframe>"
   ]
  },
  {
   "cell_type": "markdown",
   "id": "ccc3d896",
   "metadata": {},
   "source": [
    "### 3.1 Mating process"
   ]
  },
  {
   "cell_type": "markdown",
   "id": "461c55e4",
   "metadata": {},
   "source": [
    "Spiders have specialized structures for reproduction.Although spermatogenesis is not yet fully understood in spiders,we know that the male spiders produce sperm within their body which is then released through a process called sperm induction. The male draws the sperm into his pedipalps, which are appendages near the mouth that have been modified to hold sperm and also serve as copulatory organs. The female spider's reproductive system consists of two ovaries connected by tubes where fertilization occurs. During mating the male inserts his pedipalp into the female's genital opening(epigyne) to transfer his sperm.After mating, the female stores the male spiders sperm in a special chamber untill she's ready to lay eggs. When laying eggs, she releases them into an egg sac made from her silk, where they get fertilized by the stored sperm. \n",
    "\n",
    "In the case of orb-weaver spiders we have a unique mating behaviour involving post coital cannabalism by females and catapulting behaviour in males in order to avoid being cannabalised."
   ]
  },
  {
   "cell_type": "code",
   "execution_count": 6,
   "id": "afe0be08",
   "metadata": {},
   "outputs": [
    {
     "data": {
      "text/html": [
       "<img src=\"imgs/tibia_metatarsus.png\" width=\"500\" height=\"350\"/>"
      ],
      "text/plain": [
       "<IPython.core.display.Image object>"
      ]
     },
     "execution_count": 6,
     "metadata": {},
     "output_type": "execute_result"
    }
   ],
   "source": [
    "Image(url='imgs/tibia_metatarsus.png', width=500, height=350)"
   ]
  },
  {
   "cell_type": "markdown",
   "id": "5238bcac",
   "metadata": {},
   "source": [
    "### 3.2 Catapult Mechanism"
   ]
  },
  {
   "cell_type": "markdown",
   "id": "8883a234",
   "metadata": {},
   "source": [
    "The reserchers identified that the tibia-metatarsus joint of the first pair of forelegs of the male spider is crucial to the catapulting behaviour and they also found there are thecae which are enveloping sheathes covering the joints, the thecae has elatic properties for extension and contraction(found in all joints in the legs)which are filled with microfluids as they are hollow and do not conatin extensor muscles.Extensor muscles are muscles that cause the extension or straightening and the microfluids could be hemolymphs(blood). They hypothesized that the folded leg against the female when released, the hydraulic pressure created by microfluids causes the legs to rapidly expand resulting in the catapult mechanism.Also the theca surface area in the tibia–metatarsus joint in the first pair of forelegs was found to be significantly larger (mean $\\pm$ SE: $0.03 \\pm 0.002$ mm$^2$, $N = 10$)\n",
    " than any other legs suggesting that this variation might be related to the kinematic performance of catapulting, and the fitness of the male spiders."
   ]
  },
  {
   "cell_type": "code",
   "execution_count": 7,
   "id": "77fc47f4",
   "metadata": {},
   "outputs": [
    {
     "data": {
      "text/html": [
       "<img src=\"imgs/high_speed_shots_kinematic_parameter_calculation.png\" width=\"300\" height=\"200\"/>"
      ],
      "text/plain": [
       "<IPython.core.display.Image object>"
      ]
     },
     "execution_count": 7,
     "metadata": {},
     "output_type": "execute_result"
    }
   ],
   "source": [
    "Image(url='imgs/high_speed_shots_kinematic_parameter_calculation.png', width=300, height=200)"
   ]
  },
  {
   "cell_type": "code",
   "execution_count": 8,
   "id": "3fb9cb6e",
   "metadata": {},
   "outputs": [
    {
     "data": {
      "text/html": [
       "<img src=\"imgs/nodal_points.jpeg\" width=\"300\" height=\"100\"/>"
      ],
      "text/plain": [
       "<IPython.core.display.Image object>"
      ]
     },
     "execution_count": 8,
     "metadata": {},
     "output_type": "execute_result"
    }
   ],
   "source": [
    "Image(url='imgs/nodal_points.jpeg', width=300, height=100)"
   ]
  },
  {
   "cell_type": "markdown",
   "id": "f561f5df",
   "metadata": {},
   "source": [
    "### 3.4 Results of Kinematic Parameter Calculations"
   ]
  },
  {
   "cell_type": "markdown",
   "id": "8a4bd226",
   "metadata": {},
   "source": [
    "To investigate the catapult mechanism, high speed cameras with a frame rate of 1500/s were used by the researchers. The snapshots of the spiders catapulting were used to measure the distance moved accross in each frame by doing Kinematic Parameter Calculations on movement of the spider.They were tracking three nodal points in the spider over time, specifically \n",
    "\n",
    "* 1 the joint between femur and patella \n",
    "* 2 the trochanter \n",
    "* 3 the joint between cephalothorax and abdomen \n",
    "\n",
    "Kinematic parameters are quantites that describe the motion of an object , such as velocity, acceleration, displacement and time. There are four kinematic equations that can be used to derive different quantities depending on which variables are known and unknown:\n",
    "\n",
    "$$v = v_0 + at$$\n",
    "\n",
    "$$\\Delta x = \\frac{v + v_0}{2}t$$\n",
    "\n",
    "$$\\Delta x = v_0t + \\frac{1}{2}at^2$$\n",
    "\n",
    "$$v^2 = v_0^2 + 2a\\Delta x$$\n",
    "\n",
    "where (v) is the final velocity (v0) is the initial velocity (a) and time interval (t) during which the acceleration is constant. Also Δx represents the displacement of the object, which is the change in its position. These equations are valid only for constant acceleration and one-dimensional motion. Using the formulas above, calculations were done using the trajectories of the male spiders catapult motion from the high resolution images. During the catapult the male spiders spinnerets were also found to be doing revolutions.\n",
    "\n",
    "In a set of 5 observations, the researchers found that the mean peak speed (relative velocity) was $65.9 \\pm 9.8$ cm/s (mean $\\pm$ SE, $N = 5$), ranging from $31.6$ to $88.2$ cm/s. The peak acceleration averaged $201.7 \\pm 84.1$ m/s$^2$ (mean $\\pm$ SE, $N = 5$), ranging from $74.2$ to $528.7$ m/s$^2$, within an average period of $4.3 \\pm 0.3$ ms (mean $\\pm$ SE, $N = 5$) (Figure 1B--G). The spin rate of the male during catapulting was $173.4 \\pm 61.9$ rev/s (mean $\\pm$ SE, $N = 5$), with a maximum recorded rate of $469.2$ rev/s. These results will be the basis of our simulation. "
   ]
  },
  {
   "cell_type": "markdown",
   "id": "494a207b",
   "metadata": {},
   "source": [
    "# Implementation"
   ]
  },
  {
   "cell_type": "markdown",
   "id": "53a65877",
   "metadata": {},
   "source": [
    "In this section we will implement our model using the results from the research. The model simulates the force exerted by the spider during the jump, the kinetic energy generated during the jump, and the hydraulic pressure generated by the microfluids in its legs. These calculations are based on the spider's mass, speed, acceleration, and the cross-sectional area of the spider's leg. They don't involve the angle of the spider's joint. We will also dissect the functions involved in the model and the formulas used in the next sections."
   ]
  },
  {
   "cell_type": "markdown",
   "id": "dd75ba90",
   "metadata": {},
   "source": [
    "### Theoretical Analysis"
   ]
  },
  {
   "cell_type": "markdown",
   "id": "e1655e98",
   "metadata": {},
   "source": [
    "We will first list all the know values and deduce and assume to adjust for unknown values (for male spider):\n",
    "\n",
    "* spider mass : `10 mg` (assumed) we know that the male spiders body length is 1mm [c]\n",
    "\n",
    "* spider speed : `65.9 cm/s` [3.4]\n",
    "\n",
    "* spider acceleration : `0.030 ms²` [3.4]\n",
    "\n",
    "* cross-sectional area of thecae: `0.030 mm²`[3.2]\n",
    "\n",
    "We will calculate three physical quantities `Force` `Kinetic Energy` and `Hydraulic Pressure`  \n",
    "###### Force \n",
    "\n",
    "The Force generated during the catapult will be calculated by multiplying the mass (m) of the spider and acceleration (a) observed during the experiments. The Formula comes from Newton's second law of motion. The unit of force is Newton (N). Formula:\n",
    "\n",
    "$$F = ma$$\n",
    "\n",
    "###### Kinetic Energy \n",
    "\n",
    "The Kinetic energy is energy of the spider in motion during the catapult. Kinetic energy (K) is calculated as 1/2 the mass (m) times the square of the speed (v) of an object in our case the spider. The unit of Kinetic energy is measured in Joules (J) Formula:\n",
    "\n",
    "$$K = \\frac{1}{2}mv^2$$\n",
    "\n",
    "###### Hydraulic Pressure\n",
    "\n",
    "Hydraulic pressure is calculated as the force (F) per unit area (A) exerted by a fluid on surface or body in our case the fluid is the microfluid in spiders legs and area is the cross-sectional area of the thecae of both legs. The pressure exerted by the spider is not additive across legs so, when calculating the pressure we will consider the combined area of two legs(forelegs) used for catapulting. The unit of pressure is Pascal (Pa). Formula:\n",
    "\n",
    "$$P = \\frac{F}{A}$$"
   ]
  },
  {
   "cell_type": "markdown",
   "id": "8ddec7cd",
   "metadata": {},
   "source": [
    "### Importing Libraries"
   ]
  },
  {
   "cell_type": "code",
   "execution_count": 9,
   "id": "5162784b",
   "metadata": {},
   "outputs": [],
   "source": [
    "import numpy as np\n",
    "import random\n",
    "import sympy as sym\n",
    "from bokeh.models import ColumnDataSource\n",
    "from bokeh.plotting import curdoc, figure\n",
    "from bokeh.layouts import gridplot\n",
    "from bokeh.plotting import figure, show\n",
    "from bokeh.io import output_notebook\n",
    "from bokeh.plotting import figure, show, output_notebook\n",
    "from bokeh.models import HoverTool\n",
    "from IPython.display import display,Math"
   ]
  },
  {
   "cell_type": "markdown",
   "id": "1487a572",
   "metadata": {},
   "source": [
    "### Parameter settings"
   ]
  },
  {
   "cell_type": "code",
   "execution_count": 10,
   "id": "3743ca0e",
   "metadata": {},
   "outputs": [],
   "source": [
    "spider_mass = 0.00001  # mass in kg \n",
    "spider_speed = 0.659  # speed in m/s \n",
    "spider_acceleration = 201.7  # acceleration in m/s^2 \n",
    "cross_sectional_area = 0.000000030  # cross-sectional area of legs(thecae) in m^2\n",
    "gravity = 9.81 # acceleration due to gravity in m/s^2\n",
    "jump_duration = 0.010  # duration of the jump in seconds"
   ]
  },
  {
   "cell_type": "markdown",
   "id": "fcb6833a",
   "metadata": {},
   "source": [
    "### Simulating the physics of the catapulting behaviour"
   ]
  },
  {
   "cell_type": "code",
   "execution_count": 11,
   "id": "c7d3fcfa",
   "metadata": {
    "scrolled": true
   },
   "outputs": [
    {
     "name": "stdout",
     "output_type": "stream",
     "text": [
      "Force exerted by the spider during the jump: 0.002017 N\n",
      "Kinetic energy at peak speed: 1.84109e-05 J\n",
      "Hydraulic pressure generated by the spider using two legs: 134467 Pa\n"
     ]
    },
    {
     "data": {
      "text/html": [
       "<style>\n",
       "        .bk-notebook-logo {\n",
       "            display: block;\n",
       "            width: 20px;\n",
       "            height: 20px;\n",
       "            background-image: url(data:image/png;base64,iVBORw0KGgoAAAANSUhEUgAAABQAAAAUCAYAAACNiR0NAAAABHNCSVQICAgIfAhkiAAAAAlwSFlzAAALEgAACxIB0t1+/AAAABx0RVh0U29mdHdhcmUAQWRvYmUgRmlyZXdvcmtzIENTNui8sowAAAOkSURBVDiNjZRtaJVlGMd/1/08zzln5zjP1LWcU9N0NkN8m2CYjpgQYQXqSs0I84OLIC0hkEKoPtiH3gmKoiJDU7QpLgoLjLIQCpEsNJ1vqUOdO7ppbuec5+V+rj4ctwzd8IIbbi6u+8f1539dt3A78eXC7QizUF7gyV1fD1Yqg4JWz84yffhm0qkFqBogB9rM8tZdtwVsPUhWhGcFJngGeWrPzHm5oaMmkfEg1usvLFyc8jLRqDOMru7AyC8saQr7GG7f5fvDeH7Ej8CM66nIF+8yngt6HWaKh7k49Soy9nXurCi1o3qUbS3zWfrYeQDTB/Qj6kX6Ybhw4B+bOYoLKCC9H3Nu/leUTZ1JdRWkkn2ldcCamzrcf47KKXdAJllSlxAOkRgyHsGC/zRday5Qld9DyoM4/q/rUoy/CXh3jzOu3bHUVZeU+DEn8FInkPBFlu3+nW3Nw0mk6vCDiWg8CeJaxEwuHS3+z5RgY+YBR6V1Z1nxSOfoaPa4LASWxxdNp+VWTk7+4vzaou8v8PN+xo+KY2xsw6une2frhw05CTYOmQvsEhjhWjn0bmXPjpE1+kplmmkP3suftwTubK9Vq22qKmrBhpY4jvd5afdRA3wGjFAgcnTK2s4hY0/GPNIb0nErGMCRxWOOX64Z8RAC4oCXdklmEvcL8o0BfkNK4lUg9HTl+oPlQxdNo3Mg4Nv175e/1LDGzZen30MEjRUtmXSfiTVu1kK8W4txyV6BMKlbgk3lMwYCiusNy9fVfvvwMxv8Ynl6vxoByANLTWplvuj/nF9m2+PDtt1eiHPBr1oIfhCChQMBw6Aw0UulqTKZdfVvfG7VcfIqLG9bcldL/+pdWTLxLUy8Qq38heUIjh4XlzZxzQm19lLFlr8vdQ97rjZVOLf8nclzckbcD4wxXMidpX30sFd37Fv/GtwwhzhxGVAprjbg0gCAEeIgwCZyTV2Z1REEW8O4py0wsjeloKoMr6iCY6dP92H6Vw/oTyICIthibxjm/DfN9lVz8IqtqKYLUXfoKVMVQVVJOElGjrnnUt9T9wbgp8AyYKaGlqingHZU/uG2NTZSVqwHQTWkx9hxjkpWDaCg6Ckj5qebgBVbT3V3NNXMSiWSDdGV3hrtzla7J+duwPOToIg42ChPQOQjspnSlp1V+Gjdged7+8UN5CRAV7a5EdFNwCjEaBR27b3W890TE7g24NAP/mMDXRWrGoFPQI9ls/MWO2dWFAar/xcOIImbbpA3zgAAAABJRU5ErkJggg==);\n",
       "        }\n",
       "    </style>\n",
       "    <div>\n",
       "        <a href=\"https://bokeh.org\" target=\"_blank\" class=\"bk-notebook-logo\"></a>\n",
       "        <span id=\"e6afad8e-183a-43ae-8bd8-8ab86f04dfd4\">Loading BokehJS ...</span>\n",
       "    </div>\n"
      ]
     },
     "metadata": {},
     "output_type": "display_data"
    },
    {
     "data": {
      "application/javascript": [
       "(function(root) {\n",
       "  function now() {\n",
       "    return new Date();\n",
       "  }\n",
       "\n",
       "  const force = true;\n",
       "\n",
       "  if (typeof root._bokeh_onload_callbacks === \"undefined\" || force === true) {\n",
       "    root._bokeh_onload_callbacks = [];\n",
       "    root._bokeh_is_loading = undefined;\n",
       "  }\n",
       "\n",
       "const JS_MIME_TYPE = 'application/javascript';\n",
       "  const HTML_MIME_TYPE = 'text/html';\n",
       "  const EXEC_MIME_TYPE = 'application/vnd.bokehjs_exec.v0+json';\n",
       "  const CLASS_NAME = 'output_bokeh rendered_html';\n",
       "\n",
       "  /**\n",
       "   * Render data to the DOM node\n",
       "   */\n",
       "  function render(props, node) {\n",
       "    const script = document.createElement(\"script\");\n",
       "    node.appendChild(script);\n",
       "  }\n",
       "\n",
       "  /**\n",
       "   * Handle when an output is cleared or removed\n",
       "   */\n",
       "  function handleClearOutput(event, handle) {\n",
       "    function drop(id) {\n",
       "      const view = Bokeh.index.get_by_id(id)\n",
       "      if (view != null) {\n",
       "        view.model.document.clear()\n",
       "        Bokeh.index.delete(view)\n",
       "      }\n",
       "    }\n",
       "\n",
       "    const cell = handle.cell;\n",
       "\n",
       "    const id = cell.output_area._bokeh_element_id;\n",
       "    const server_id = cell.output_area._bokeh_server_id;\n",
       "\n",
       "    // Clean up Bokeh references\n",
       "    if (id != null) {\n",
       "      drop(id)\n",
       "    }\n",
       "\n",
       "    if (server_id !== undefined) {\n",
       "      // Clean up Bokeh references\n",
       "      const cmd_clean = \"from bokeh.io.state import curstate; print(curstate().uuid_to_server['\" + server_id + \"'].get_sessions()[0].document.roots[0]._id)\";\n",
       "      cell.notebook.kernel.execute(cmd_clean, {\n",
       "        iopub: {\n",
       "          output: function(msg) {\n",
       "            const id = msg.content.text.trim()\n",
       "            drop(id)\n",
       "          }\n",
       "        }\n",
       "      });\n",
       "      // Destroy server and session\n",
       "      const cmd_destroy = \"import bokeh.io.notebook as ion; ion.destroy_server('\" + server_id + \"')\";\n",
       "      cell.notebook.kernel.execute(cmd_destroy);\n",
       "    }\n",
       "  }\n",
       "\n",
       "  /**\n",
       "   * Handle when a new output is added\n",
       "   */\n",
       "  function handleAddOutput(event, handle) {\n",
       "    const output_area = handle.output_area;\n",
       "    const output = handle.output;\n",
       "\n",
       "    // limit handleAddOutput to display_data with EXEC_MIME_TYPE content only\n",
       "    if ((output.output_type != \"display_data\") || (!Object.prototype.hasOwnProperty.call(output.data, EXEC_MIME_TYPE))) {\n",
       "      return\n",
       "    }\n",
       "\n",
       "    const toinsert = output_area.element.find(\".\" + CLASS_NAME.split(' ')[0]);\n",
       "\n",
       "    if (output.metadata[EXEC_MIME_TYPE][\"id\"] !== undefined) {\n",
       "      toinsert[toinsert.length - 1].firstChild.textContent = output.data[JS_MIME_TYPE];\n",
       "      // store reference to embed id on output_area\n",
       "      output_area._bokeh_element_id = output.metadata[EXEC_MIME_TYPE][\"id\"];\n",
       "    }\n",
       "    if (output.metadata[EXEC_MIME_TYPE][\"server_id\"] !== undefined) {\n",
       "      const bk_div = document.createElement(\"div\");\n",
       "      bk_div.innerHTML = output.data[HTML_MIME_TYPE];\n",
       "      const script_attrs = bk_div.children[0].attributes;\n",
       "      for (let i = 0; i < script_attrs.length; i++) {\n",
       "        toinsert[toinsert.length - 1].firstChild.setAttribute(script_attrs[i].name, script_attrs[i].value);\n",
       "        toinsert[toinsert.length - 1].firstChild.textContent = bk_div.children[0].textContent\n",
       "      }\n",
       "      // store reference to server id on output_area\n",
       "      output_area._bokeh_server_id = output.metadata[EXEC_MIME_TYPE][\"server_id\"];\n",
       "    }\n",
       "  }\n",
       "\n",
       "  function register_renderer(events, OutputArea) {\n",
       "\n",
       "    function append_mime(data, metadata, element) {\n",
       "      // create a DOM node to render to\n",
       "      const toinsert = this.create_output_subarea(\n",
       "        metadata,\n",
       "        CLASS_NAME,\n",
       "        EXEC_MIME_TYPE\n",
       "      );\n",
       "      this.keyboard_manager.register_events(toinsert);\n",
       "      // Render to node\n",
       "      const props = {data: data, metadata: metadata[EXEC_MIME_TYPE]};\n",
       "      render(props, toinsert[toinsert.length - 1]);\n",
       "      element.append(toinsert);\n",
       "      return toinsert\n",
       "    }\n",
       "\n",
       "    /* Handle when an output is cleared or removed */\n",
       "    events.on('clear_output.CodeCell', handleClearOutput);\n",
       "    events.on('delete.Cell', handleClearOutput);\n",
       "\n",
       "    /* Handle when a new output is added */\n",
       "    events.on('output_added.OutputArea', handleAddOutput);\n",
       "\n",
       "    /**\n",
       "     * Register the mime type and append_mime function with output_area\n",
       "     */\n",
       "    OutputArea.prototype.register_mime_type(EXEC_MIME_TYPE, append_mime, {\n",
       "      /* Is output safe? */\n",
       "      safe: true,\n",
       "      /* Index of renderer in `output_area.display_order` */\n",
       "      index: 0\n",
       "    });\n",
       "  }\n",
       "\n",
       "  // register the mime type if in Jupyter Notebook environment and previously unregistered\n",
       "  if (root.Jupyter !== undefined) {\n",
       "    const events = require('base/js/events');\n",
       "    const OutputArea = require('notebook/js/outputarea').OutputArea;\n",
       "\n",
       "    if (OutputArea.prototype.mime_types().indexOf(EXEC_MIME_TYPE) == -1) {\n",
       "      register_renderer(events, OutputArea);\n",
       "    }\n",
       "  }\n",
       "  if (typeof (root._bokeh_timeout) === \"undefined\" || force === true) {\n",
       "    root._bokeh_timeout = Date.now() + 5000;\n",
       "    root._bokeh_failed_load = false;\n",
       "  }\n",
       "\n",
       "  const NB_LOAD_WARNING = {'data': {'text/html':\n",
       "     \"<div style='background-color: #fdd'>\\n\"+\n",
       "     \"<p>\\n\"+\n",
       "     \"BokehJS does not appear to have successfully loaded. If loading BokehJS from CDN, this \\n\"+\n",
       "     \"may be due to a slow or bad network connection. Possible fixes:\\n\"+\n",
       "     \"</p>\\n\"+\n",
       "     \"<ul>\\n\"+\n",
       "     \"<li>re-rerun `output_notebook()` to attempt to load from CDN again, or</li>\\n\"+\n",
       "     \"<li>use INLINE resources instead, as so:</li>\\n\"+\n",
       "     \"</ul>\\n\"+\n",
       "     \"<code>\\n\"+\n",
       "     \"from bokeh.resources import INLINE\\n\"+\n",
       "     \"output_notebook(resources=INLINE)\\n\"+\n",
       "     \"</code>\\n\"+\n",
       "     \"</div>\"}};\n",
       "\n",
       "  function display_loaded() {\n",
       "    const el = document.getElementById(\"e6afad8e-183a-43ae-8bd8-8ab86f04dfd4\");\n",
       "    if (el != null) {\n",
       "      el.textContent = \"BokehJS is loading...\";\n",
       "    }\n",
       "    if (root.Bokeh !== undefined) {\n",
       "      if (el != null) {\n",
       "        el.textContent = \"BokehJS \" + root.Bokeh.version + \" successfully loaded.\";\n",
       "      }\n",
       "    } else if (Date.now() < root._bokeh_timeout) {\n",
       "      setTimeout(display_loaded, 100)\n",
       "    }\n",
       "  }\n",
       "\n",
       "  function run_callbacks() {\n",
       "    try {\n",
       "      root._bokeh_onload_callbacks.forEach(function(callback) {\n",
       "        if (callback != null)\n",
       "          callback();\n",
       "      });\n",
       "    } finally {\n",
       "      delete root._bokeh_onload_callbacks\n",
       "    }\n",
       "    console.debug(\"Bokeh: all callbacks have finished\");\n",
       "  }\n",
       "\n",
       "  function load_libs(css_urls, js_urls, callback) {\n",
       "    if (css_urls == null) css_urls = [];\n",
       "    if (js_urls == null) js_urls = [];\n",
       "\n",
       "    root._bokeh_onload_callbacks.push(callback);\n",
       "    if (root._bokeh_is_loading > 0) {\n",
       "      console.debug(\"Bokeh: BokehJS is being loaded, scheduling callback at\", now());\n",
       "      return null;\n",
       "    }\n",
       "    if (js_urls == null || js_urls.length === 0) {\n",
       "      run_callbacks();\n",
       "      return null;\n",
       "    }\n",
       "    console.debug(\"Bokeh: BokehJS not loaded, scheduling load and callback at\", now());\n",
       "    root._bokeh_is_loading = css_urls.length + js_urls.length;\n",
       "\n",
       "    function on_load() {\n",
       "      root._bokeh_is_loading--;\n",
       "      if (root._bokeh_is_loading === 0) {\n",
       "        console.debug(\"Bokeh: all BokehJS libraries/stylesheets loaded\");\n",
       "        run_callbacks()\n",
       "      }\n",
       "    }\n",
       "\n",
       "    function on_error(url) {\n",
       "      console.error(\"failed to load \" + url);\n",
       "    }\n",
       "\n",
       "    for (let i = 0; i < css_urls.length; i++) {\n",
       "      const url = css_urls[i];\n",
       "      const element = document.createElement(\"link\");\n",
       "      element.onload = on_load;\n",
       "      element.onerror = on_error.bind(null, url);\n",
       "      element.rel = \"stylesheet\";\n",
       "      element.type = \"text/css\";\n",
       "      element.href = url;\n",
       "      console.debug(\"Bokeh: injecting link tag for BokehJS stylesheet: \", url);\n",
       "      document.body.appendChild(element);\n",
       "    }\n",
       "\n",
       "    for (let i = 0; i < js_urls.length; i++) {\n",
       "      const url = js_urls[i];\n",
       "      const element = document.createElement('script');\n",
       "      element.onload = on_load;\n",
       "      element.onerror = on_error.bind(null, url);\n",
       "      element.async = false;\n",
       "      element.src = url;\n",
       "      console.debug(\"Bokeh: injecting script tag for BokehJS library: \", url);\n",
       "      document.head.appendChild(element);\n",
       "    }\n",
       "  };\n",
       "\n",
       "  function inject_raw_css(css) {\n",
       "    const element = document.createElement(\"style\");\n",
       "    element.appendChild(document.createTextNode(css));\n",
       "    document.body.appendChild(element);\n",
       "  }\n",
       "\n",
       "  const js_urls = [\"https://cdn.bokeh.org/bokeh/release/bokeh-3.3.0.min.js\", \"https://cdn.bokeh.org/bokeh/release/bokeh-gl-3.3.0.min.js\", \"https://cdn.bokeh.org/bokeh/release/bokeh-widgets-3.3.0.min.js\", \"https://cdn.bokeh.org/bokeh/release/bokeh-tables-3.3.0.min.js\", \"https://cdn.bokeh.org/bokeh/release/bokeh-mathjax-3.3.0.min.js\"];\n",
       "  const css_urls = [];\n",
       "\n",
       "  const inline_js = [    function(Bokeh) {\n",
       "      Bokeh.set_log_level(\"info\");\n",
       "    },\n",
       "function(Bokeh) {\n",
       "    }\n",
       "  ];\n",
       "\n",
       "  function run_inline_js() {\n",
       "    if (root.Bokeh !== undefined || force === true) {\n",
       "          for (let i = 0; i < inline_js.length; i++) {\n",
       "      inline_js[i].call(root, root.Bokeh);\n",
       "    }\n",
       "if (force === true) {\n",
       "        display_loaded();\n",
       "      }} else if (Date.now() < root._bokeh_timeout) {\n",
       "      setTimeout(run_inline_js, 100);\n",
       "    } else if (!root._bokeh_failed_load) {\n",
       "      console.log(\"Bokeh: BokehJS failed to load within specified timeout.\");\n",
       "      root._bokeh_failed_load = true;\n",
       "    } else if (force !== true) {\n",
       "      const cell = $(document.getElementById(\"e6afad8e-183a-43ae-8bd8-8ab86f04dfd4\")).parents('.cell').data().cell;\n",
       "      cell.output_area.append_execute_result(NB_LOAD_WARNING)\n",
       "    }\n",
       "  }\n",
       "\n",
       "  if (root._bokeh_is_loading === 0) {\n",
       "    console.debug(\"Bokeh: BokehJS loaded, going straight to plotting\");\n",
       "    run_inline_js();\n",
       "  } else {\n",
       "    load_libs(css_urls, js_urls, function() {\n",
       "      console.debug(\"Bokeh: BokehJS plotting callback run at\", now());\n",
       "      run_inline_js();\n",
       "    });\n",
       "  }\n",
       "}(window));"
      ],
      "application/vnd.bokehjs_load.v0+json": "(function(root) {\n  function now() {\n    return new Date();\n  }\n\n  const force = true;\n\n  if (typeof root._bokeh_onload_callbacks === \"undefined\" || force === true) {\n    root._bokeh_onload_callbacks = [];\n    root._bokeh_is_loading = undefined;\n  }\n\n\n  if (typeof (root._bokeh_timeout) === \"undefined\" || force === true) {\n    root._bokeh_timeout = Date.now() + 5000;\n    root._bokeh_failed_load = false;\n  }\n\n  const NB_LOAD_WARNING = {'data': {'text/html':\n     \"<div style='background-color: #fdd'>\\n\"+\n     \"<p>\\n\"+\n     \"BokehJS does not appear to have successfully loaded. If loading BokehJS from CDN, this \\n\"+\n     \"may be due to a slow or bad network connection. Possible fixes:\\n\"+\n     \"</p>\\n\"+\n     \"<ul>\\n\"+\n     \"<li>re-rerun `output_notebook()` to attempt to load from CDN again, or</li>\\n\"+\n     \"<li>use INLINE resources instead, as so:</li>\\n\"+\n     \"</ul>\\n\"+\n     \"<code>\\n\"+\n     \"from bokeh.resources import INLINE\\n\"+\n     \"output_notebook(resources=INLINE)\\n\"+\n     \"</code>\\n\"+\n     \"</div>\"}};\n\n  function display_loaded() {\n    const el = document.getElementById(\"e6afad8e-183a-43ae-8bd8-8ab86f04dfd4\");\n    if (el != null) {\n      el.textContent = \"BokehJS is loading...\";\n    }\n    if (root.Bokeh !== undefined) {\n      if (el != null) {\n        el.textContent = \"BokehJS \" + root.Bokeh.version + \" successfully loaded.\";\n      }\n    } else if (Date.now() < root._bokeh_timeout) {\n      setTimeout(display_loaded, 100)\n    }\n  }\n\n  function run_callbacks() {\n    try {\n      root._bokeh_onload_callbacks.forEach(function(callback) {\n        if (callback != null)\n          callback();\n      });\n    } finally {\n      delete root._bokeh_onload_callbacks\n    }\n    console.debug(\"Bokeh: all callbacks have finished\");\n  }\n\n  function load_libs(css_urls, js_urls, callback) {\n    if (css_urls == null) css_urls = [];\n    if (js_urls == null) js_urls = [];\n\n    root._bokeh_onload_callbacks.push(callback);\n    if (root._bokeh_is_loading > 0) {\n      console.debug(\"Bokeh: BokehJS is being loaded, scheduling callback at\", now());\n      return null;\n    }\n    if (js_urls == null || js_urls.length === 0) {\n      run_callbacks();\n      return null;\n    }\n    console.debug(\"Bokeh: BokehJS not loaded, scheduling load and callback at\", now());\n    root._bokeh_is_loading = css_urls.length + js_urls.length;\n\n    function on_load() {\n      root._bokeh_is_loading--;\n      if (root._bokeh_is_loading === 0) {\n        console.debug(\"Bokeh: all BokehJS libraries/stylesheets loaded\");\n        run_callbacks()\n      }\n    }\n\n    function on_error(url) {\n      console.error(\"failed to load \" + url);\n    }\n\n    for (let i = 0; i < css_urls.length; i++) {\n      const url = css_urls[i];\n      const element = document.createElement(\"link\");\n      element.onload = on_load;\n      element.onerror = on_error.bind(null, url);\n      element.rel = \"stylesheet\";\n      element.type = \"text/css\";\n      element.href = url;\n      console.debug(\"Bokeh: injecting link tag for BokehJS stylesheet: \", url);\n      document.body.appendChild(element);\n    }\n\n    for (let i = 0; i < js_urls.length; i++) {\n      const url = js_urls[i];\n      const element = document.createElement('script');\n      element.onload = on_load;\n      element.onerror = on_error.bind(null, url);\n      element.async = false;\n      element.src = url;\n      console.debug(\"Bokeh: injecting script tag for BokehJS library: \", url);\n      document.head.appendChild(element);\n    }\n  };\n\n  function inject_raw_css(css) {\n    const element = document.createElement(\"style\");\n    element.appendChild(document.createTextNode(css));\n    document.body.appendChild(element);\n  }\n\n  const js_urls = [\"https://cdn.bokeh.org/bokeh/release/bokeh-3.3.0.min.js\", \"https://cdn.bokeh.org/bokeh/release/bokeh-gl-3.3.0.min.js\", \"https://cdn.bokeh.org/bokeh/release/bokeh-widgets-3.3.0.min.js\", \"https://cdn.bokeh.org/bokeh/release/bokeh-tables-3.3.0.min.js\", \"https://cdn.bokeh.org/bokeh/release/bokeh-mathjax-3.3.0.min.js\"];\n  const css_urls = [];\n\n  const inline_js = [    function(Bokeh) {\n      Bokeh.set_log_level(\"info\");\n    },\nfunction(Bokeh) {\n    }\n  ];\n\n  function run_inline_js() {\n    if (root.Bokeh !== undefined || force === true) {\n          for (let i = 0; i < inline_js.length; i++) {\n      inline_js[i].call(root, root.Bokeh);\n    }\nif (force === true) {\n        display_loaded();\n      }} else if (Date.now() < root._bokeh_timeout) {\n      setTimeout(run_inline_js, 100);\n    } else if (!root._bokeh_failed_load) {\n      console.log(\"Bokeh: BokehJS failed to load within specified timeout.\");\n      root._bokeh_failed_load = true;\n    } else if (force !== true) {\n      const cell = $(document.getElementById(\"e6afad8e-183a-43ae-8bd8-8ab86f04dfd4\")).parents('.cell').data().cell;\n      cell.output_area.append_execute_result(NB_LOAD_WARNING)\n    }\n  }\n\n  if (root._bokeh_is_loading === 0) {\n    console.debug(\"Bokeh: BokehJS loaded, going straight to plotting\");\n    run_inline_js();\n  } else {\n    load_libs(css_urls, js_urls, function() {\n      console.debug(\"Bokeh: BokehJS plotting callback run at\", now());\n      run_inline_js();\n    });\n  }\n}(window));"
     },
     "metadata": {},
     "output_type": "display_data"
    },
    {
     "data": {
      "text/html": [
       "\n",
       "  <div id=\"a700949f-52e9-4673-b193-7ec6d5727077\" data-root-id=\"p1122\" style=\"display: contents;\"></div>\n"
      ]
     },
     "metadata": {},
     "output_type": "display_data"
    },
    {
     "data": {
      "application/javascript": [
       "(function(root) {\n",
       "  function embed_document(root) {\n",
       "  const docs_json = {\"a577ad49-d217-469e-9a4e-4f4ad0f230e0\":{\"version\":\"3.3.0\",\"title\":\"Bokeh Application\",\"roots\":[{\"type\":\"object\",\"name\":\"GridPlot\",\"id\":\"p1122\",\"attributes\":{\"rows\":null,\"cols\":null,\"toolbar\":{\"type\":\"object\",\"name\":\"Toolbar\",\"id\":\"p1121\",\"attributes\":{\"tools\":[{\"type\":\"object\",\"name\":\"ToolProxy\",\"id\":\"p1115\",\"attributes\":{\"tools\":[{\"type\":\"object\",\"name\":\"PanTool\",\"id\":\"p1023\"},{\"type\":\"object\",\"name\":\"PanTool\",\"id\":\"p1061\"},{\"type\":\"object\",\"name\":\"PanTool\",\"id\":\"p1099\"}]}},{\"type\":\"object\",\"name\":\"ToolProxy\",\"id\":\"p1116\",\"attributes\":{\"tools\":[{\"type\":\"object\",\"name\":\"WheelZoomTool\",\"id\":\"p1024\",\"attributes\":{\"renderers\":\"auto\"}},{\"type\":\"object\",\"name\":\"WheelZoomTool\",\"id\":\"p1062\",\"attributes\":{\"renderers\":\"auto\"}},{\"type\":\"object\",\"name\":\"WheelZoomTool\",\"id\":\"p1100\",\"attributes\":{\"renderers\":\"auto\"}}]}},{\"type\":\"object\",\"name\":\"ToolProxy\",\"id\":\"p1117\",\"attributes\":{\"tools\":[{\"type\":\"object\",\"name\":\"BoxZoomTool\",\"id\":\"p1025\",\"attributes\":{\"overlay\":{\"type\":\"object\",\"name\":\"BoxAnnotation\",\"id\":\"p1026\",\"attributes\":{\"syncable\":false,\"level\":\"overlay\",\"visible\":false,\"left_units\":\"canvas\",\"right_units\":\"canvas\",\"top_units\":\"canvas\",\"bottom_units\":\"canvas\",\"line_color\":\"black\",\"line_alpha\":1.0,\"line_width\":2,\"line_dash\":[4,4],\"fill_color\":\"lightgrey\",\"fill_alpha\":0.5}}}},{\"type\":\"object\",\"name\":\"BoxZoomTool\",\"id\":\"p1063\",\"attributes\":{\"overlay\":{\"type\":\"object\",\"name\":\"BoxAnnotation\",\"id\":\"p1064\",\"attributes\":{\"syncable\":false,\"level\":\"overlay\",\"visible\":false,\"left_units\":\"canvas\",\"right_units\":\"canvas\",\"top_units\":\"canvas\",\"bottom_units\":\"canvas\",\"line_color\":\"black\",\"line_alpha\":1.0,\"line_width\":2,\"line_dash\":[4,4],\"fill_color\":\"lightgrey\",\"fill_alpha\":0.5}}}},{\"type\":\"object\",\"name\":\"BoxZoomTool\",\"id\":\"p1101\",\"attributes\":{\"overlay\":{\"type\":\"object\",\"name\":\"BoxAnnotation\",\"id\":\"p1102\",\"attributes\":{\"syncable\":false,\"level\":\"overlay\",\"visible\":false,\"left_units\":\"canvas\",\"right_units\":\"canvas\",\"top_units\":\"canvas\",\"bottom_units\":\"canvas\",\"line_color\":\"black\",\"line_alpha\":1.0,\"line_width\":2,\"line_dash\":[4,4],\"fill_color\":\"lightgrey\",\"fill_alpha\":0.5}}}}]}},{\"type\":\"object\",\"name\":\"SaveTool\",\"id\":\"p1118\"},{\"type\":\"object\",\"name\":\"ToolProxy\",\"id\":\"p1119\",\"attributes\":{\"tools\":[{\"type\":\"object\",\"name\":\"ResetTool\",\"id\":\"p1028\"},{\"type\":\"object\",\"name\":\"ResetTool\",\"id\":\"p1066\"},{\"type\":\"object\",\"name\":\"ResetTool\",\"id\":\"p1104\"}]}},{\"type\":\"object\",\"name\":\"ToolProxy\",\"id\":\"p1120\",\"attributes\":{\"tools\":[{\"type\":\"object\",\"name\":\"HelpTool\",\"id\":\"p1029\"},{\"type\":\"object\",\"name\":\"HelpTool\",\"id\":\"p1067\"},{\"type\":\"object\",\"name\":\"HelpTool\",\"id\":\"p1105\"}]}}]}},\"children\":[[{\"type\":\"object\",\"name\":\"Figure\",\"id\":\"p1001\",\"attributes\":{\"width\":335,\"height\":335,\"x_range\":{\"type\":\"object\",\"name\":\"DataRange1d\",\"id\":\"p1002\"},\"y_range\":{\"type\":\"object\",\"name\":\"DataRange1d\",\"id\":\"p1003\"},\"x_scale\":{\"type\":\"object\",\"name\":\"LinearScale\",\"id\":\"p1011\"},\"y_scale\":{\"type\":\"object\",\"name\":\"LinearScale\",\"id\":\"p1012\"},\"title\":{\"type\":\"object\",\"name\":\"Title\",\"id\":\"p1004\",\"attributes\":{\"text\":\"Force exerted by the spider during catapult\"}},\"renderers\":[{\"type\":\"object\",\"name\":\"GlyphRenderer\",\"id\":\"p1036\",\"attributes\":{\"data_source\":{\"type\":\"object\",\"name\":\"ColumnDataSource\",\"id\":\"p1030\",\"attributes\":{\"selected\":{\"type\":\"object\",\"name\":\"Selection\",\"id\":\"p1031\",\"attributes\":{\"indices\":[],\"line_indices\":[]}},\"selection_policy\":{\"type\":\"object\",\"name\":\"UnionRenderers\",\"id\":\"p1032\"},\"data\":{\"type\":\"map\",\"entries\":[[\"x\",{\"type\":\"ndarray\",\"array\":{\"type\":\"bytes\",\"data\":\"AAAAAAAAAADQb1VSrHoaP9BvVVKseio/3BPAPQHcMz/Qb1VSrHo6P+JldbOrjEA/3BPAPQHcQz/WwQrIVitHP9BvVVKseko/yh2g3AHKTT/iZXWzq4xQP9+8mnhWNFI/3BPAPQHcUz/ZauUCrINVP9bBCshWK1c/0xgwjQHTWD/Qb1VSrHpaP83GehdXIlw/yh2g3AHKXT/HdMWhrHFfP+JldbOrjGA/YBEIFoFgYT/fvJp4VjRiP15oLdsrCGM/3BPAPQHcYz9av1Kg1q9kP9lq5QKsg2U/WBZ4ZYFXZj/WwQrIVitnP1RtnSos/2c/0xgwjQHTaD9SxMLv1qZpP9BvVVKsemo/ThvotIFOaz/NxnoXVyJsP0xyDXos9mw/yh2g3AHKbT9IyTI/151uP8d0xaGscW8/IxAsAsEicD/iZXWzq4xwP6G7vmSW9nA/YBEIFoFgcT8gZ1HHa8pxP9+8mnhWNHI/nhLkKUGecj9eaC3bKwhzPx2+dowWcnM/3BPAPQHccz+baQnv60V0P1q/UqDWr3Q/GhWcUcEZdT/ZauUCrIN1P5jALrSW7XU/WBZ4ZYFXdj8XbMEWbMF2P9bBCshWK3c/lRdUeUGVdz9UbZ0qLP93PxTD5tsWaXg/0xgwjQHTeD+Sbnk+7Dx5P1LEwu/Wpnk/ERoMocEQej/Qb1VSrHp6P4/FngOX5Ho/ThvotIFOez8OcTFmbLh7P83GehdXInw/jBzEyEGMfD9Mcg16LPZ8PwvIVisXYH0/yh2g3AHKfT+Jc+mN7DN+P0jJMj/XnX4/CB988MEHfz/HdMWhrHF/P4bKDlOX238/IxAsAsEigD8Cu9BatleAP+JldbOrjIA/whAaDKHBgD+hu75klvaAP4FmY72LK4E/YBEIFoFggT9AvKxudpWBPyBnUcdryoE//xH2H2H/gT/fvJp4VjSCP79nP9FLaYI/nhLkKUGegj9+vYiCNtOCP15oLdsrCIM/PRPSMyE9gz8dvnaMFnKDP/xoG+ULp4M/3BPAPQHcgz+8vmSW9hCEP5tpCe/rRYQ/exSuR+F6hD8=\"},\"shape\":[100],\"dtype\":\"float64\",\"order\":\"little\"}],[\"y\",[0.002017,0.002017,0.002017,0.002017,0.002017,0.002017,0.002017,0.002017,0.002017,0.002017,0.002017,0.002017,0.002017,0.002017,0.002017,0.002017,0.002017,0.002017,0.002017,0.002017,0.002017,0.002017,0.002017,0.002017,0.002017,0.002017,0.002017,0.002017,0.002017,0.002017,0.002017,0.002017,0.002017,0.002017,0.002017,0.002017,0.002017,0.002017,0.002017,0.002017,0.002017,0.002017,0.002017,0.002017,0.002017,0.002017,0.002017,0.002017,0.002017,0.002017,0.002017,0.002017,0.002017,0.002017,0.002017,0.002017,0.002017,0.002017,0.002017,0.002017,0.002017,0.002017,0.002017,0.002017,0.002017,0.002017,0.002017,0.002017,0.002017,0.002017,0.002017,0.002017,0.002017,0.002017,0.002017,0.002017,0.002017,0.002017,0.002017,0.002017,0.002017,0.002017,0.002017,0.002017,0.002017,0.002017,0.002017,0.002017,0.002017,0.002017,0.002017,0.002017,0.002017,0.002017,0.002017,0.002017,0.002017,0.002017,0.002017,0.002017]]]}}},\"view\":{\"type\":\"object\",\"name\":\"CDSView\",\"id\":\"p1037\",\"attributes\":{\"filter\":{\"type\":\"object\",\"name\":\"AllIndices\",\"id\":\"p1038\"}}},\"glyph\":{\"type\":\"object\",\"name\":\"Line\",\"id\":\"p1033\",\"attributes\":{\"x\":{\"type\":\"field\",\"field\":\"x\"},\"y\":{\"type\":\"field\",\"field\":\"y\"},\"line_color\":\"red\"}},\"nonselection_glyph\":{\"type\":\"object\",\"name\":\"Line\",\"id\":\"p1034\",\"attributes\":{\"x\":{\"type\":\"field\",\"field\":\"x\"},\"y\":{\"type\":\"field\",\"field\":\"y\"},\"line_color\":\"red\",\"line_alpha\":0.1}},\"muted_glyph\":{\"type\":\"object\",\"name\":\"Line\",\"id\":\"p1035\",\"attributes\":{\"x\":{\"type\":\"field\",\"field\":\"x\"},\"y\":{\"type\":\"field\",\"field\":\"y\"},\"line_color\":\"red\",\"line_alpha\":0.2}}}}],\"toolbar\":{\"type\":\"object\",\"name\":\"Toolbar\",\"id\":\"p1010\",\"attributes\":{\"tools\":[{\"id\":\"p1023\"},{\"id\":\"p1024\"},{\"id\":\"p1025\"},{\"type\":\"object\",\"name\":\"SaveTool\",\"id\":\"p1027\"},{\"id\":\"p1028\"},{\"id\":\"p1029\"}]}},\"toolbar_location\":null,\"left\":[{\"type\":\"object\",\"name\":\"LinearAxis\",\"id\":\"p1018\",\"attributes\":{\"ticker\":{\"type\":\"object\",\"name\":\"BasicTicker\",\"id\":\"p1019\",\"attributes\":{\"mantissas\":[1,2,5]}},\"formatter\":{\"type\":\"object\",\"name\":\"BasicTickFormatter\",\"id\":\"p1020\"},\"axis_label\":\"Force (N)\",\"major_label_policy\":{\"type\":\"object\",\"name\":\"AllLabels\",\"id\":\"p1021\"}}}],\"below\":[{\"type\":\"object\",\"name\":\"LinearAxis\",\"id\":\"p1013\",\"attributes\":{\"ticker\":{\"type\":\"object\",\"name\":\"BasicTicker\",\"id\":\"p1014\",\"attributes\":{\"mantissas\":[1,2,5]}},\"formatter\":{\"type\":\"object\",\"name\":\"BasicTickFormatter\",\"id\":\"p1015\"},\"axis_label\":\"Time (s)\",\"major_label_policy\":{\"type\":\"object\",\"name\":\"AllLabels\",\"id\":\"p1016\"}}}],\"center\":[{\"type\":\"object\",\"name\":\"Grid\",\"id\":\"p1017\",\"attributes\":{\"axis\":{\"id\":\"p1013\"}}},{\"type\":\"object\",\"name\":\"Grid\",\"id\":\"p1022\",\"attributes\":{\"dimension\":1,\"axis\":{\"id\":\"p1018\"}}}]}},0,0],[{\"type\":\"object\",\"name\":\"Figure\",\"id\":\"p1039\",\"attributes\":{\"width\":335,\"height\":335,\"x_range\":{\"type\":\"object\",\"name\":\"DataRange1d\",\"id\":\"p1040\"},\"y_range\":{\"type\":\"object\",\"name\":\"DataRange1d\",\"id\":\"p1041\"},\"x_scale\":{\"type\":\"object\",\"name\":\"LinearScale\",\"id\":\"p1049\"},\"y_scale\":{\"type\":\"object\",\"name\":\"LinearScale\",\"id\":\"p1050\"},\"title\":{\"type\":\"object\",\"name\":\"Title\",\"id\":\"p1042\",\"attributes\":{\"text\":\"Kinetic energy generated during catapult\"}},\"renderers\":[{\"type\":\"object\",\"name\":\"GlyphRenderer\",\"id\":\"p1074\",\"attributes\":{\"data_source\":{\"type\":\"object\",\"name\":\"ColumnDataSource\",\"id\":\"p1068\",\"attributes\":{\"selected\":{\"type\":\"object\",\"name\":\"Selection\",\"id\":\"p1069\",\"attributes\":{\"indices\":[],\"line_indices\":[]}},\"selection_policy\":{\"type\":\"object\",\"name\":\"UnionRenderers\",\"id\":\"p1070\"},\"data\":{\"type\":\"map\",\"entries\":[[\"x\",{\"type\":\"ndarray\",\"array\":{\"type\":\"bytes\",\"data\":\"AAAAAAAAAADQb1VSrHoaP9BvVVKseio/3BPAPQHcMz/Qb1VSrHo6P+JldbOrjEA/3BPAPQHcQz/WwQrIVitHP9BvVVKseko/yh2g3AHKTT/iZXWzq4xQP9+8mnhWNFI/3BPAPQHcUz/ZauUCrINVP9bBCshWK1c/0xgwjQHTWD/Qb1VSrHpaP83GehdXIlw/yh2g3AHKXT/HdMWhrHFfP+JldbOrjGA/YBEIFoFgYT/fvJp4VjRiP15oLdsrCGM/3BPAPQHcYz9av1Kg1q9kP9lq5QKsg2U/WBZ4ZYFXZj/WwQrIVitnP1RtnSos/2c/0xgwjQHTaD9SxMLv1qZpP9BvVVKsemo/ThvotIFOaz/NxnoXVyJsP0xyDXos9mw/yh2g3AHKbT9IyTI/151uP8d0xaGscW8/IxAsAsEicD/iZXWzq4xwP6G7vmSW9nA/YBEIFoFgcT8gZ1HHa8pxP9+8mnhWNHI/nhLkKUGecj9eaC3bKwhzPx2+dowWcnM/3BPAPQHccz+baQnv60V0P1q/UqDWr3Q/GhWcUcEZdT/ZauUCrIN1P5jALrSW7XU/WBZ4ZYFXdj8XbMEWbMF2P9bBCshWK3c/lRdUeUGVdz9UbZ0qLP93PxTD5tsWaXg/0xgwjQHTeD+Sbnk+7Dx5P1LEwu/Wpnk/ERoMocEQej/Qb1VSrHp6P4/FngOX5Ho/ThvotIFOez8OcTFmbLh7P83GehdXInw/jBzEyEGMfD9Mcg16LPZ8PwvIVisXYH0/yh2g3AHKfT+Jc+mN7DN+P0jJMj/XnX4/CB988MEHfz/HdMWhrHF/P4bKDlOX238/IxAsAsEigD8Cu9BatleAP+JldbOrjIA/whAaDKHBgD+hu75klvaAP4FmY72LK4E/YBEIFoFggT9AvKxudpWBPyBnUcdryoE//xH2H2H/gT/fvJp4VjSCP79nP9FLaYI/nhLkKUGegj9+vYiCNtOCP15oLdsrCIM/PRPSMyE9gz8dvnaMFnKDP/xoG+ULp4M/3BPAPQHcgz+8vmSW9hCEP5tpCe/rRYQ/exSuR+F6hD8=\"},\"shape\":[100],\"dtype\":\"float64\",\"order\":\"little\"}],[\"y\",{\"type\":\"ndarray\",\"array\":{\"type\":\"bytes\",\"data\":\"AAAAAAAAAAAtz5OwzCIgPi3Pk7DMIkA+EkmmRiYnUj4tz5OwzCJgPrTz5tNfNmk+EkmmRiYncj49VWJuSbV4Pi3Pk7DMIoA+MxJ7DwtshD608+bTXzaJPrBz1/3KgY4+EkmmRiYnkj6KJyNB8k2VPj1VYm5JtZg+LtJjzitdnD4tz5OwzCKgPuLcVhNJN6I+MxJ7DwtspD4kbwClEsGmPrTz5tNfNqk+4p8unPLLqz6wc9f9yoGuPo+3cHz0q7A+EkmmRiYnsj5mbozderKzPoonI0HyTbU+e3RqcYz5tj49VWJuSbW4PsnJCjgpgbo+LtJjzitdvD5bbm0xUUm+Pi3Pk7DMIsA+EzHJLgIpwT7i3FYTSTfCPpjSPF6hTcM+MxJ7DwtsxD65mxEnhpLFPiRvAKUSwcY+e4xHibD3xz608+bTXzbJPtmk3oQgfco+4p8unPLLyz7X5NYZ1iLNPrBz1/3Kgc4+cEwwSNHozz6Pt3B89KvQPtVt9QeJZ9E+EkmmRiYn0j5DSYM4zOrSPmZujN16stM+frjBNTJ+1D6KJyNB8k3VPoe7sP+6IdY+e3RqcYz51j5iUlCWZtXXPj1VYm5Jtdg+DH2g+TSZ2T7JyQo4KYHaPoM7oSkmbds+LtJjzitd3D7MjVImOlHdPltubTFRSd4+4XO073BF3z4tz5OwzCLgPuJ240LlpOA+EzHJLgIp4T69/UR0I6/hPuLcVhNJN+I+fs7+C3PB4j6Y0jxeoU3jPinpEArU2+M+MxJ7Dwts5D65TXtuRv7kPrmbESeGkuU+NPw9Ocoo5j4kbwClEsHmPpL0WGpfW+c+e4xHibD35z7aNswBBpboPrTz5tNfNuk+C8OX/73Y6T7ZpN6EIH3qPiKZu2OHI+s+4p8unPLL6z4fuTcuYnbsPtfk1hnWIu0+BiMMX07R7T6wc9f9yoHuPtfWOPZLNO8+cEwwSNHo7z5E6t55rU/wPo+3cHz0q/A+FI7Nqz0J8T7VbfUHiWfxPtRW6JDWxvE+EkmmRiYn8j6NRC8peIjyPkNJgzjM6vI+NVeidCJO8z4=\"},\"shape\":[100],\"dtype\":\"float64\",\"order\":\"little\"}]]}}},\"view\":{\"type\":\"object\",\"name\":\"CDSView\",\"id\":\"p1075\",\"attributes\":{\"filter\":{\"type\":\"object\",\"name\":\"AllIndices\",\"id\":\"p1076\"}}},\"glyph\":{\"type\":\"object\",\"name\":\"Line\",\"id\":\"p1071\",\"attributes\":{\"x\":{\"type\":\"field\",\"field\":\"x\"},\"y\":{\"type\":\"field\",\"field\":\"y\"},\"line_color\":\"blue\"}},\"nonselection_glyph\":{\"type\":\"object\",\"name\":\"Line\",\"id\":\"p1072\",\"attributes\":{\"x\":{\"type\":\"field\",\"field\":\"x\"},\"y\":{\"type\":\"field\",\"field\":\"y\"},\"line_color\":\"blue\",\"line_alpha\":0.1}},\"muted_glyph\":{\"type\":\"object\",\"name\":\"Line\",\"id\":\"p1073\",\"attributes\":{\"x\":{\"type\":\"field\",\"field\":\"x\"},\"y\":{\"type\":\"field\",\"field\":\"y\"},\"line_color\":\"blue\",\"line_alpha\":0.2}}}}],\"toolbar\":{\"type\":\"object\",\"name\":\"Toolbar\",\"id\":\"p1048\",\"attributes\":{\"tools\":[{\"id\":\"p1061\"},{\"id\":\"p1062\"},{\"id\":\"p1063\"},{\"type\":\"object\",\"name\":\"SaveTool\",\"id\":\"p1065\"},{\"id\":\"p1066\"},{\"id\":\"p1067\"}]}},\"toolbar_location\":null,\"left\":[{\"type\":\"object\",\"name\":\"LinearAxis\",\"id\":\"p1056\",\"attributes\":{\"ticker\":{\"type\":\"object\",\"name\":\"BasicTicker\",\"id\":\"p1057\",\"attributes\":{\"mantissas\":[1,2,5]}},\"formatter\":{\"type\":\"object\",\"name\":\"BasicTickFormatter\",\"id\":\"p1058\"},\"axis_label\":\"Kinetic Energy (J)\",\"major_label_policy\":{\"type\":\"object\",\"name\":\"AllLabels\",\"id\":\"p1059\"}}}],\"below\":[{\"type\":\"object\",\"name\":\"LinearAxis\",\"id\":\"p1051\",\"attributes\":{\"ticker\":{\"type\":\"object\",\"name\":\"BasicTicker\",\"id\":\"p1052\",\"attributes\":{\"mantissas\":[1,2,5]}},\"formatter\":{\"type\":\"object\",\"name\":\"BasicTickFormatter\",\"id\":\"p1053\"},\"axis_label\":\"Time (s)\",\"major_label_policy\":{\"type\":\"object\",\"name\":\"AllLabels\",\"id\":\"p1054\"}}}],\"center\":[{\"type\":\"object\",\"name\":\"Grid\",\"id\":\"p1055\",\"attributes\":{\"axis\":{\"id\":\"p1051\"}}},{\"type\":\"object\",\"name\":\"Grid\",\"id\":\"p1060\",\"attributes\":{\"dimension\":1,\"axis\":{\"id\":\"p1056\"}}}]}},0,1],[{\"type\":\"object\",\"name\":\"Figure\",\"id\":\"p1077\",\"attributes\":{\"width\":335,\"height\":335,\"x_range\":{\"type\":\"object\",\"name\":\"DataRange1d\",\"id\":\"p1078\"},\"y_range\":{\"type\":\"object\",\"name\":\"DataRange1d\",\"id\":\"p1079\"},\"x_scale\":{\"type\":\"object\",\"name\":\"LinearScale\",\"id\":\"p1087\"},\"y_scale\":{\"type\":\"object\",\"name\":\"LinearScale\",\"id\":\"p1088\"},\"title\":{\"type\":\"object\",\"name\":\"Title\",\"id\":\"p1080\",\"attributes\":{\"text\":\"Hydraulic pressure generated by spider\"}},\"renderers\":[{\"type\":\"object\",\"name\":\"GlyphRenderer\",\"id\":\"p1112\",\"attributes\":{\"data_source\":{\"type\":\"object\",\"name\":\"ColumnDataSource\",\"id\":\"p1106\",\"attributes\":{\"selected\":{\"type\":\"object\",\"name\":\"Selection\",\"id\":\"p1107\",\"attributes\":{\"indices\":[],\"line_indices\":[]}},\"selection_policy\":{\"type\":\"object\",\"name\":\"UnionRenderers\",\"id\":\"p1108\"},\"data\":{\"type\":\"map\",\"entries\":[[\"x\",{\"type\":\"ndarray\",\"array\":{\"type\":\"bytes\",\"data\":\"AAAAAAAAAADQb1VSrHoaP9BvVVKseio/3BPAPQHcMz/Qb1VSrHo6P+JldbOrjEA/3BPAPQHcQz/WwQrIVitHP9BvVVKseko/yh2g3AHKTT/iZXWzq4xQP9+8mnhWNFI/3BPAPQHcUz/ZauUCrINVP9bBCshWK1c/0xgwjQHTWD/Qb1VSrHpaP83GehdXIlw/yh2g3AHKXT/HdMWhrHFfP+JldbOrjGA/YBEIFoFgYT/fvJp4VjRiP15oLdsrCGM/3BPAPQHcYz9av1Kg1q9kP9lq5QKsg2U/WBZ4ZYFXZj/WwQrIVitnP1RtnSos/2c/0xgwjQHTaD9SxMLv1qZpP9BvVVKsemo/ThvotIFOaz/NxnoXVyJsP0xyDXos9mw/yh2g3AHKbT9IyTI/151uP8d0xaGscW8/IxAsAsEicD/iZXWzq4xwP6G7vmSW9nA/YBEIFoFgcT8gZ1HHa8pxP9+8mnhWNHI/nhLkKUGecj9eaC3bKwhzPx2+dowWcnM/3BPAPQHccz+baQnv60V0P1q/UqDWr3Q/GhWcUcEZdT/ZauUCrIN1P5jALrSW7XU/WBZ4ZYFXdj8XbMEWbMF2P9bBCshWK3c/lRdUeUGVdz9UbZ0qLP93PxTD5tsWaXg/0xgwjQHTeD+Sbnk+7Dx5P1LEwu/Wpnk/ERoMocEQej/Qb1VSrHp6P4/FngOX5Ho/ThvotIFOez8OcTFmbLh7P83GehdXInw/jBzEyEGMfD9Mcg16LPZ8PwvIVisXYH0/yh2g3AHKfT+Jc+mN7DN+P0jJMj/XnX4/CB988MEHfz/HdMWhrHF/P4bKDlOX238/IxAsAsEigD8Cu9BatleAP+JldbOrjIA/whAaDKHBgD+hu75klvaAP4FmY72LK4E/YBEIFoFggT9AvKxudpWBPyBnUcdryoE//xH2H2H/gT/fvJp4VjSCP79nP9FLaYI/nhLkKUGegj9+vYiCNtOCP15oLdsrCIM/PRPSMyE9gz8dvnaMFnKDP/xoG+ULp4M/3BPAPQHcgz+8vmSW9hCEP5tpCe/rRYQ/exSuR+F6hD8=\"},\"shape\":[100],\"dtype\":\"float64\",\"order\":\"little\"}]]}}},\"view\":{\"type\":\"object\",\"name\":\"CDSView\",\"id\":\"p1113\",\"attributes\":{\"filter\":{\"type\":\"object\",\"name\":\"AllIndices\",\"id\":\"p1114\"}}},\"glyph\":{\"type\":\"object\",\"name\":\"Line\",\"id\":\"p1109\",\"attributes\":{\"x\":{\"type\":\"field\",\"field\":\"x\"},\"y\":{\"type\":\"value\",\"value\":134466.6666666667},\"line_color\":\"green\"}},\"nonselection_glyph\":{\"type\":\"object\",\"name\":\"Line\",\"id\":\"p1110\",\"attributes\":{\"x\":{\"type\":\"field\",\"field\":\"x\"},\"y\":{\"type\":\"value\",\"value\":134466.6666666667},\"line_color\":\"green\",\"line_alpha\":0.1}},\"muted_glyph\":{\"type\":\"object\",\"name\":\"Line\",\"id\":\"p1111\",\"attributes\":{\"x\":{\"type\":\"field\",\"field\":\"x\"},\"y\":{\"type\":\"value\",\"value\":134466.6666666667},\"line_color\":\"green\",\"line_alpha\":0.2}}}}],\"toolbar\":{\"type\":\"object\",\"name\":\"Toolbar\",\"id\":\"p1086\",\"attributes\":{\"tools\":[{\"id\":\"p1099\"},{\"id\":\"p1100\"},{\"id\":\"p1101\"},{\"type\":\"object\",\"name\":\"SaveTool\",\"id\":\"p1103\"},{\"id\":\"p1104\"},{\"id\":\"p1105\"}]}},\"toolbar_location\":null,\"left\":[{\"type\":\"object\",\"name\":\"LinearAxis\",\"id\":\"p1094\",\"attributes\":{\"ticker\":{\"type\":\"object\",\"name\":\"BasicTicker\",\"id\":\"p1095\",\"attributes\":{\"mantissas\":[1,2,5]}},\"formatter\":{\"type\":\"object\",\"name\":\"BasicTickFormatter\",\"id\":\"p1096\"},\"axis_label\":\"Pressure (Pa)\",\"major_label_policy\":{\"type\":\"object\",\"name\":\"AllLabels\",\"id\":\"p1097\"}}}],\"below\":[{\"type\":\"object\",\"name\":\"LinearAxis\",\"id\":\"p1089\",\"attributes\":{\"ticker\":{\"type\":\"object\",\"name\":\"BasicTicker\",\"id\":\"p1090\",\"attributes\":{\"mantissas\":[1,2,5]}},\"formatter\":{\"type\":\"object\",\"name\":\"BasicTickFormatter\",\"id\":\"p1091\"},\"axis_label\":\"Time (s)\",\"major_label_policy\":{\"type\":\"object\",\"name\":\"AllLabels\",\"id\":\"p1092\"}}}],\"center\":[{\"type\":\"object\",\"name\":\"Grid\",\"id\":\"p1093\",\"attributes\":{\"axis\":{\"id\":\"p1089\"}}},{\"type\":\"object\",\"name\":\"Grid\",\"id\":\"p1098\",\"attributes\":{\"dimension\":1,\"axis\":{\"id\":\"p1094\"}}}]}},0,2]]}}]}};\n",
       "  const render_items = [{\"docid\":\"a577ad49-d217-469e-9a4e-4f4ad0f230e0\",\"roots\":{\"p1122\":\"a700949f-52e9-4673-b193-7ec6d5727077\"},\"root_ids\":[\"p1122\"]}];\n",
       "  root.Bokeh.embed.embed_items_notebook(docs_json, render_items);\n",
       "  }\n",
       "  if (root.Bokeh !== undefined) {\n",
       "    embed_document(root);\n",
       "  } else {\n",
       "    let attempts = 0;\n",
       "    const timer = setInterval(function(root) {\n",
       "      if (root.Bokeh !== undefined) {\n",
       "        clearInterval(timer);\n",
       "        embed_document(root);\n",
       "      } else {\n",
       "        attempts++;\n",
       "        if (attempts > 100) {\n",
       "          clearInterval(timer);\n",
       "          console.log(\"Bokeh: ERROR: Unable to run BokehJS code because BokehJS library is missing\");\n",
       "        }\n",
       "      }\n",
       "    }, 10, root)\n",
       "  }\n",
       "})(window);"
      ],
      "application/vnd.bokehjs_exec.v0+json": ""
     },
     "metadata": {
      "application/vnd.bokehjs_exec.v0+json": {
       "id": "p1122"
      }
     },
     "output_type": "display_data"
    }
   ],
   "source": [
    "time = np.linspace(0, jump_duration, 100)  \n",
    "\n",
    "def force(mass, acceleration):\n",
    "    return mass * acceleration  \n",
    "\n",
    "def kinetic_energy(mass, speed):\n",
    "    return 0.5 * mass * speed**2  \n",
    "\n",
    "def hydraulic_pressure(force, area):\n",
    "    return force / area \n",
    "\n",
    "force = force(spider_mass, spider_acceleration)\n",
    "speed = spider_acceleration * time - gravity * time  \n",
    "kinetic_energy = kinetic_energy(spider_mass, speed)\n",
    "hydraulic_pressure = (hydraulic_pressure(force, cross_sectional_area)) * 2 \n",
    "\n",
    "print(\"Force exerted by the spider during the jump: %g N\" %(force))\n",
    "print(\"Kinetic energy at peak speed: %g J\" %(kinetic_energy[-1]))\n",
    "print(\"Hydraulic pressure generated by the spider using two legs: %g Pa\" %(hydraulic_pressure))\n",
    "\n",
    "# Plot force, kinetic energy, and hydraulic pressure using Bokeh\n",
    "output_notebook()\n",
    "\n",
    "# Define plot size parameters\n",
    "width = 335 # width of the plot in pixels\n",
    "height = 335  # height of the plot in pixels\n",
    "\n",
    "# Create a new plot for force\n",
    "p1 = figure(title=\"Force exerted by the spider during catapult\", x_axis_label='Time (s)', y_axis_label='Force (N)', width=width, height=height)\n",
    "p1.line(time, [force]*len(time), line_color=\"red\")\n",
    "\n",
    "# Create a new plot for kinetic energy\n",
    "p2 = figure(title=\"Kinetic energy generated during catapult\", x_axis_label='Time (s)', y_axis_label='Kinetic Energy (J)', width=width, height=height)\n",
    "p2.line(time, kinetic_energy, line_color=\"blue\")\n",
    "\n",
    "# Create a new plot for hydraulic pressure\n",
    "p3 = figure(title=\"Hydraulic pressure generated by spider\", x_axis_label='Time (s)', y_axis_label='Pressure (Pa)', width=width, height=height)\n",
    "p3.line(time, hydraulic_pressure, line_color=\"green\")\n",
    "\n",
    "# Show the plots side by side\n",
    "show(gridplot([[p1, p2, p3]]))"
   ]
  },
  {
   "cell_type": "markdown",
   "id": "3ba0b4f6",
   "metadata": {},
   "source": [
    "### Results"
   ]
  },
  {
   "cell_type": "markdown",
   "id": "a6d453f0",
   "metadata": {},
   "source": [
    "The model generates the following results\n",
    "\n",
    "* Force exerted by the spider during the catapult jump is `0.002017 N`\n",
    "\n",
    "* Kinetic energy generated by the spider during the catapult jump is `1.8410886049999998e-05 J`\n",
    "\n",
    "* Hydrulic pressure generated by the spider during the catapult jump is `134466.6666666667 Pa`\n",
    "\n",
    "The pressure calculated is consistent with the existing measurements done on jumps in jumping spiders."
   ]
  },
  {
   "cell_type": "markdown",
   "id": "473595e4",
   "metadata": {},
   "source": [
    "### Future Improvements "
   ]
  },
  {
   "cell_type": "markdown",
   "id": "d5197aeb",
   "metadata": {},
   "source": [
    "The paper also mentioned `spin rates` of the spider during catapulting which was `173.4 ± 61.9 rev/s` which could also be factored in the model to calculate angular velocity and torque generated. Similarly, There are multiple factors that affect the male spiders during the catapult and are crucial in making the model more accurate like\n",
    "\n",
    "* The angle of the spider's joint and launch angle\n",
    "* Atmospheric pressure and body specifications of spider \n",
    "* Torsion - twisting force generated\n",
    "* Tension generated by the spiders body structure\n",
    "* Air resistance during catapult jump - Drag co-effiecient\n",
    "\n",
    "These metrics have not been measured yet but if we are able to, then we can simulate the physics more accurately."
   ]
  },
  {
   "cell_type": "markdown",
   "id": "ba84aac6",
   "metadata": {},
   "source": [
    "## Agility Formula"
   ]
  },
  {
   "cell_type": "markdown",
   "id": "99746ed7",
   "metadata": {},
   "source": [
    "The survival rate of male spider and the population of spiders depend on the catapulting success therefore If the male spiders maintain  these metrics their chances of post-coital survival increases. The agility formula takes the phenotype agility and defines spiders fitness."
   ]
  },
  {
   "cell_type": "markdown",
   "id": "be16b9eb",
   "metadata": {},
   "source": [
    "Agility formula is calulated as:"
   ]
  },
  {
   "cell_type": "code",
   "execution_count": 12,
   "id": "463ff828",
   "metadata": {},
   "outputs": [
    {
     "data": {
      "text/latex": [
       "$\\displaystyle 1000 force + \\frac{1}{\\epsilon + kinetic_{energy}} + \\frac{1}{3 \\left(\\epsilon + hydraulic_{pressure}\\right)}$"
      ],
      "text/plain": [
       "<IPython.core.display.Math object>"
      ]
     },
     "metadata": {},
     "output_type": "display_data"
    }
   ],
   "source": [
    "epsilon = 1e-7 # constant to scale for calculation purposes\n",
    "\n",
    "def agility_formula(force, kinetic_energy, hydraulic_pressure, epsilon):\n",
    "    force, kinetic_energy, hydraulic_pressure, epsilon = sym.symbols('force kinetic_energy hydraulic_pressure epsilon')\n",
    "    agility_formula = (force*1000) + (1/(kinetic_energy+epsilon)) + (1/(hydraulic_pressure+epsilon))/3\n",
    "    display(Math(sym.latex(sym.sympify(agility_formula))))\n",
    "    \n",
    "agility_formula(force, kinetic_energy, hydraulic_pressure, epsilon) "
   ]
  },
  {
   "cell_type": "code",
   "execution_count": 13,
   "id": "d86755e0",
   "metadata": {},
   "outputs": [],
   "source": [
    "epsilon = 1e-7 # constant to scale for calculation\n",
    "def calculate_agility(force, kinetic_energy, hydraulic_pressure):\n",
    "          #1 N = 1000 mN\n",
    "    return ((force*1000)+(1/(kinetic_energy+epsilon))+(1/(hydraulic_pressure+epsilon)))/3"
   ]
  },
  {
   "cell_type": "markdown",
   "id": "e1100ed5",
   "metadata": {},
   "source": [
    "## Simulating the post-coital survival of male orb spiders  "
   ]
  },
  {
   "cell_type": "markdown",
   "id": "ff0f43c7",
   "metadata": {},
   "source": [
    "Orb weaver spiders (Philoponella prominens) have unique population dynamics because apart from other factors that might impact their population they deal with predation within the polulation itself. Unsurprisingly, the male spiders have evolved to survive the cannibalism behavior shown by the female spiders evidenced by the catapult mechanism.We will now simulate a population of spiders with a focus on the mating process. First we will setup some initial parameters like population size which is denoted by `N`, `time step` is the number of generation. The `Spider` class represents individual spiders in population and each spider has a sex(male or female) assigned along with an agility score. The `mating function` simulates the mating process which is carried out in two steps for each outcome.\n",
    "\n",
    "* mating  > successful catapult > male spider alive > offspring gets high agility > attempts to mate again\n",
    "* mating > unsuccessful catapult > male spider dead > offspring gets low agility "
   ]
  },
  {
   "cell_type": "code",
   "execution_count": 14,
   "id": "f9bbd8b0",
   "metadata": {},
   "outputs": [],
   "source": [
    "N = 1000 # initial population size\n",
    "time_steps = 10 \n",
    "#negative_agility = 0.2 \n",
    "\n",
    "class Spider:\n",
    "    def __init__(self, sex, agility):\n",
    "        self.sex = sex \n",
    "        self.agility = agility\n",
    "        self.alive = True\n",
    "\n",
    "# male performs catapult mechanism with a success rate calculated based on agility if successful, male survives                         \n",
    "def mating(male, female): \n",
    "    if random.random() < male.agility:  # offspring spider inherits the average of the parents agility with some random variation\n",
    "        offspring_agility = (male.agility + female.agility) / 2 + np.random.normal(0, 0.01) \n",
    "        return [Spider('male', male.agility), Spider('female', female.agility), Spider(random.choice(['male', 'female']), offspring_agility)]\n",
    "    else:\n",
    "        male.alive = False # if mating is unsuccessful male gets eaten\n",
    "        return [Spider('female', female.agility), Spider(random.choice(['male', 'female']), male.agility)]  # offspring gets the agility of the dead male spider"
   ]
  },
  {
   "cell_type": "markdown",
   "id": "314feb51",
   "metadata": {},
   "source": [
    "Here we are initialisng two populations of spiders. One with a high agility score and another with low agility score and simulating population dynamics for specifeid no of generations."
   ]
  },
  {
   "cell_type": "code",
   "execution_count": 15,
   "id": "a54ff69c",
   "metadata": {},
   "outputs": [
    {
     "name": "stdout",
     "output_type": "stream",
     "text": [
      "Generation 1 (High Agility): 2458 spiders - 514 males, 486 females\n",
      "Generation 1 (Low Agility): 2452 spiders - 516 males, 484 females\n",
      "Generation 2 (High Agility): 6163 spiders - 1223 males, 1235 females\n",
      "Generation 2 (Low Agility): 6064 spiders - 1248 males, 1204 females\n",
      "Generation 3 (High Agility): 15460 spiders - 3064 males, 3099 females\n",
      "Generation 3 (Low Agility): 15151 spiders - 3035 males, 3029 females\n",
      "Generation 4 (High Agility): 38668 spiders - 7724 males, 7736 females\n",
      "Generation 4 (Low Agility): 37750 spiders - 7618 males, 7533 females\n",
      "Generation 5 (High Agility): 96421 spiders - 19417 males, 19251 females\n",
      "Generation 5 (Low Agility): 94126 spiders - 18958 males, 18792 females\n",
      "Generation 6 (High Agility): 240697 spiders - 48329 males, 48092 females\n",
      "Generation 6 (Low Agility): 234835 spiders - 47223 males, 46903 females\n",
      "Generation 7 (High Agility): 601282 spiders - 120502 males, 120195 females\n",
      "Generation 7 (Low Agility): 586201 spiders - 117713 males, 117122 females\n",
      "Generation 8 (High Agility): 1502617 spiders - 300837 males, 300445 females\n",
      "Generation 8 (Low Agility): 1464454 spiders - 293450 males, 292751 females\n",
      "Generation 9 (High Agility): 3756274 spiders - 751398 males, 751219 females\n",
      "Generation 9 (Low Agility): 3659395 spiders - 732807 males, 731647 females\n",
      "Generation 10 (High Agility): 9390892 spiders - 1878068 males, 1878206 females\n",
      "Generation 10 (Low Agility): 9148066 spiders - 1829838 males, 1829557 females\n"
     ]
    },
    {
     "data": {
      "text/html": [
       "<style>\n",
       "        .bk-notebook-logo {\n",
       "            display: block;\n",
       "            width: 20px;\n",
       "            height: 20px;\n",
       "            background-image: url(data:image/png;base64,iVBORw0KGgoAAAANSUhEUgAAABQAAAAUCAYAAACNiR0NAAAABHNCSVQICAgIfAhkiAAAAAlwSFlzAAALEgAACxIB0t1+/AAAABx0RVh0U29mdHdhcmUAQWRvYmUgRmlyZXdvcmtzIENTNui8sowAAAOkSURBVDiNjZRtaJVlGMd/1/08zzln5zjP1LWcU9N0NkN8m2CYjpgQYQXqSs0I84OLIC0hkEKoPtiH3gmKoiJDU7QpLgoLjLIQCpEsNJ1vqUOdO7ppbuec5+V+rj4ctwzd8IIbbi6u+8f1539dt3A78eXC7QizUF7gyV1fD1Yqg4JWz84yffhm0qkFqBogB9rM8tZdtwVsPUhWhGcFJngGeWrPzHm5oaMmkfEg1usvLFyc8jLRqDOMru7AyC8saQr7GG7f5fvDeH7Ej8CM66nIF+8yngt6HWaKh7k49Soy9nXurCi1o3qUbS3zWfrYeQDTB/Qj6kX6Ybhw4B+bOYoLKCC9H3Nu/leUTZ1JdRWkkn2ldcCamzrcf47KKXdAJllSlxAOkRgyHsGC/zRday5Qld9DyoM4/q/rUoy/CXh3jzOu3bHUVZeU+DEn8FInkPBFlu3+nW3Nw0mk6vCDiWg8CeJaxEwuHS3+z5RgY+YBR6V1Z1nxSOfoaPa4LASWxxdNp+VWTk7+4vzaou8v8PN+xo+KY2xsw6une2frhw05CTYOmQvsEhjhWjn0bmXPjpE1+kplmmkP3suftwTubK9Vq22qKmrBhpY4jvd5afdRA3wGjFAgcnTK2s4hY0/GPNIb0nErGMCRxWOOX64Z8RAC4oCXdklmEvcL8o0BfkNK4lUg9HTl+oPlQxdNo3Mg4Nv175e/1LDGzZen30MEjRUtmXSfiTVu1kK8W4txyV6BMKlbgk3lMwYCiusNy9fVfvvwMxv8Ynl6vxoByANLTWplvuj/nF9m2+PDtt1eiHPBr1oIfhCChQMBw6Aw0UulqTKZdfVvfG7VcfIqLG9bcldL/+pdWTLxLUy8Qq38heUIjh4XlzZxzQm19lLFlr8vdQ97rjZVOLf8nclzckbcD4wxXMidpX30sFd37Fv/GtwwhzhxGVAprjbg0gCAEeIgwCZyTV2Z1REEW8O4py0wsjeloKoMr6iCY6dP92H6Vw/oTyICIthibxjm/DfN9lVz8IqtqKYLUXfoKVMVQVVJOElGjrnnUt9T9wbgp8AyYKaGlqingHZU/uG2NTZSVqwHQTWkx9hxjkpWDaCg6Ckj5qebgBVbT3V3NNXMSiWSDdGV3hrtzla7J+duwPOToIg42ChPQOQjspnSlp1V+Gjdged7+8UN5CRAV7a5EdFNwCjEaBR27b3W890TE7g24NAP/mMDXRWrGoFPQI9ls/MWO2dWFAar/xcOIImbbpA3zgAAAABJRU5ErkJggg==);\n",
       "        }\n",
       "    </style>\n",
       "    <div>\n",
       "        <a href=\"https://bokeh.org\" target=\"_blank\" class=\"bk-notebook-logo\"></a>\n",
       "        <span id=\"aae8190e-b58d-4674-830b-07f492da1467\">Loading BokehJS ...</span>\n",
       "    </div>\n"
      ]
     },
     "metadata": {},
     "output_type": "display_data"
    },
    {
     "data": {
      "application/javascript": [
       "(function(root) {\n",
       "  function now() {\n",
       "    return new Date();\n",
       "  }\n",
       "\n",
       "  const force = true;\n",
       "\n",
       "  if (typeof root._bokeh_onload_callbacks === \"undefined\" || force === true) {\n",
       "    root._bokeh_onload_callbacks = [];\n",
       "    root._bokeh_is_loading = undefined;\n",
       "  }\n",
       "\n",
       "const JS_MIME_TYPE = 'application/javascript';\n",
       "  const HTML_MIME_TYPE = 'text/html';\n",
       "  const EXEC_MIME_TYPE = 'application/vnd.bokehjs_exec.v0+json';\n",
       "  const CLASS_NAME = 'output_bokeh rendered_html';\n",
       "\n",
       "  /**\n",
       "   * Render data to the DOM node\n",
       "   */\n",
       "  function render(props, node) {\n",
       "    const script = document.createElement(\"script\");\n",
       "    node.appendChild(script);\n",
       "  }\n",
       "\n",
       "  /**\n",
       "   * Handle when an output is cleared or removed\n",
       "   */\n",
       "  function handleClearOutput(event, handle) {\n",
       "    function drop(id) {\n",
       "      const view = Bokeh.index.get_by_id(id)\n",
       "      if (view != null) {\n",
       "        view.model.document.clear()\n",
       "        Bokeh.index.delete(view)\n",
       "      }\n",
       "    }\n",
       "\n",
       "    const cell = handle.cell;\n",
       "\n",
       "    const id = cell.output_area._bokeh_element_id;\n",
       "    const server_id = cell.output_area._bokeh_server_id;\n",
       "\n",
       "    // Clean up Bokeh references\n",
       "    if (id != null) {\n",
       "      drop(id)\n",
       "    }\n",
       "\n",
       "    if (server_id !== undefined) {\n",
       "      // Clean up Bokeh references\n",
       "      const cmd_clean = \"from bokeh.io.state import curstate; print(curstate().uuid_to_server['\" + server_id + \"'].get_sessions()[0].document.roots[0]._id)\";\n",
       "      cell.notebook.kernel.execute(cmd_clean, {\n",
       "        iopub: {\n",
       "          output: function(msg) {\n",
       "            const id = msg.content.text.trim()\n",
       "            drop(id)\n",
       "          }\n",
       "        }\n",
       "      });\n",
       "      // Destroy server and session\n",
       "      const cmd_destroy = \"import bokeh.io.notebook as ion; ion.destroy_server('\" + server_id + \"')\";\n",
       "      cell.notebook.kernel.execute(cmd_destroy);\n",
       "    }\n",
       "  }\n",
       "\n",
       "  /**\n",
       "   * Handle when a new output is added\n",
       "   */\n",
       "  function handleAddOutput(event, handle) {\n",
       "    const output_area = handle.output_area;\n",
       "    const output = handle.output;\n",
       "\n",
       "    // limit handleAddOutput to display_data with EXEC_MIME_TYPE content only\n",
       "    if ((output.output_type != \"display_data\") || (!Object.prototype.hasOwnProperty.call(output.data, EXEC_MIME_TYPE))) {\n",
       "      return\n",
       "    }\n",
       "\n",
       "    const toinsert = output_area.element.find(\".\" + CLASS_NAME.split(' ')[0]);\n",
       "\n",
       "    if (output.metadata[EXEC_MIME_TYPE][\"id\"] !== undefined) {\n",
       "      toinsert[toinsert.length - 1].firstChild.textContent = output.data[JS_MIME_TYPE];\n",
       "      // store reference to embed id on output_area\n",
       "      output_area._bokeh_element_id = output.metadata[EXEC_MIME_TYPE][\"id\"];\n",
       "    }\n",
       "    if (output.metadata[EXEC_MIME_TYPE][\"server_id\"] !== undefined) {\n",
       "      const bk_div = document.createElement(\"div\");\n",
       "      bk_div.innerHTML = output.data[HTML_MIME_TYPE];\n",
       "      const script_attrs = bk_div.children[0].attributes;\n",
       "      for (let i = 0; i < script_attrs.length; i++) {\n",
       "        toinsert[toinsert.length - 1].firstChild.setAttribute(script_attrs[i].name, script_attrs[i].value);\n",
       "        toinsert[toinsert.length - 1].firstChild.textContent = bk_div.children[0].textContent\n",
       "      }\n",
       "      // store reference to server id on output_area\n",
       "      output_area._bokeh_server_id = output.metadata[EXEC_MIME_TYPE][\"server_id\"];\n",
       "    }\n",
       "  }\n",
       "\n",
       "  function register_renderer(events, OutputArea) {\n",
       "\n",
       "    function append_mime(data, metadata, element) {\n",
       "      // create a DOM node to render to\n",
       "      const toinsert = this.create_output_subarea(\n",
       "        metadata,\n",
       "        CLASS_NAME,\n",
       "        EXEC_MIME_TYPE\n",
       "      );\n",
       "      this.keyboard_manager.register_events(toinsert);\n",
       "      // Render to node\n",
       "      const props = {data: data, metadata: metadata[EXEC_MIME_TYPE]};\n",
       "      render(props, toinsert[toinsert.length - 1]);\n",
       "      element.append(toinsert);\n",
       "      return toinsert\n",
       "    }\n",
       "\n",
       "    /* Handle when an output is cleared or removed */\n",
       "    events.on('clear_output.CodeCell', handleClearOutput);\n",
       "    events.on('delete.Cell', handleClearOutput);\n",
       "\n",
       "    /* Handle when a new output is added */\n",
       "    events.on('output_added.OutputArea', handleAddOutput);\n",
       "\n",
       "    /**\n",
       "     * Register the mime type and append_mime function with output_area\n",
       "     */\n",
       "    OutputArea.prototype.register_mime_type(EXEC_MIME_TYPE, append_mime, {\n",
       "      /* Is output safe? */\n",
       "      safe: true,\n",
       "      /* Index of renderer in `output_area.display_order` */\n",
       "      index: 0\n",
       "    });\n",
       "  }\n",
       "\n",
       "  // register the mime type if in Jupyter Notebook environment and previously unregistered\n",
       "  if (root.Jupyter !== undefined) {\n",
       "    const events = require('base/js/events');\n",
       "    const OutputArea = require('notebook/js/outputarea').OutputArea;\n",
       "\n",
       "    if (OutputArea.prototype.mime_types().indexOf(EXEC_MIME_TYPE) == -1) {\n",
       "      register_renderer(events, OutputArea);\n",
       "    }\n",
       "  }\n",
       "  if (typeof (root._bokeh_timeout) === \"undefined\" || force === true) {\n",
       "    root._bokeh_timeout = Date.now() + 5000;\n",
       "    root._bokeh_failed_load = false;\n",
       "  }\n",
       "\n",
       "  const NB_LOAD_WARNING = {'data': {'text/html':\n",
       "     \"<div style='background-color: #fdd'>\\n\"+\n",
       "     \"<p>\\n\"+\n",
       "     \"BokehJS does not appear to have successfully loaded. If loading BokehJS from CDN, this \\n\"+\n",
       "     \"may be due to a slow or bad network connection. Possible fixes:\\n\"+\n",
       "     \"</p>\\n\"+\n",
       "     \"<ul>\\n\"+\n",
       "     \"<li>re-rerun `output_notebook()` to attempt to load from CDN again, or</li>\\n\"+\n",
       "     \"<li>use INLINE resources instead, as so:</li>\\n\"+\n",
       "     \"</ul>\\n\"+\n",
       "     \"<code>\\n\"+\n",
       "     \"from bokeh.resources import INLINE\\n\"+\n",
       "     \"output_notebook(resources=INLINE)\\n\"+\n",
       "     \"</code>\\n\"+\n",
       "     \"</div>\"}};\n",
       "\n",
       "  function display_loaded() {\n",
       "    const el = document.getElementById(\"aae8190e-b58d-4674-830b-07f492da1467\");\n",
       "    if (el != null) {\n",
       "      el.textContent = \"BokehJS is loading...\";\n",
       "    }\n",
       "    if (root.Bokeh !== undefined) {\n",
       "      if (el != null) {\n",
       "        el.textContent = \"BokehJS \" + root.Bokeh.version + \" successfully loaded.\";\n",
       "      }\n",
       "    } else if (Date.now() < root._bokeh_timeout) {\n",
       "      setTimeout(display_loaded, 100)\n",
       "    }\n",
       "  }\n",
       "\n",
       "  function run_callbacks() {\n",
       "    try {\n",
       "      root._bokeh_onload_callbacks.forEach(function(callback) {\n",
       "        if (callback != null)\n",
       "          callback();\n",
       "      });\n",
       "    } finally {\n",
       "      delete root._bokeh_onload_callbacks\n",
       "    }\n",
       "    console.debug(\"Bokeh: all callbacks have finished\");\n",
       "  }\n",
       "\n",
       "  function load_libs(css_urls, js_urls, callback) {\n",
       "    if (css_urls == null) css_urls = [];\n",
       "    if (js_urls == null) js_urls = [];\n",
       "\n",
       "    root._bokeh_onload_callbacks.push(callback);\n",
       "    if (root._bokeh_is_loading > 0) {\n",
       "      console.debug(\"Bokeh: BokehJS is being loaded, scheduling callback at\", now());\n",
       "      return null;\n",
       "    }\n",
       "    if (js_urls == null || js_urls.length === 0) {\n",
       "      run_callbacks();\n",
       "      return null;\n",
       "    }\n",
       "    console.debug(\"Bokeh: BokehJS not loaded, scheduling load and callback at\", now());\n",
       "    root._bokeh_is_loading = css_urls.length + js_urls.length;\n",
       "\n",
       "    function on_load() {\n",
       "      root._bokeh_is_loading--;\n",
       "      if (root._bokeh_is_loading === 0) {\n",
       "        console.debug(\"Bokeh: all BokehJS libraries/stylesheets loaded\");\n",
       "        run_callbacks()\n",
       "      }\n",
       "    }\n",
       "\n",
       "    function on_error(url) {\n",
       "      console.error(\"failed to load \" + url);\n",
       "    }\n",
       "\n",
       "    for (let i = 0; i < css_urls.length; i++) {\n",
       "      const url = css_urls[i];\n",
       "      const element = document.createElement(\"link\");\n",
       "      element.onload = on_load;\n",
       "      element.onerror = on_error.bind(null, url);\n",
       "      element.rel = \"stylesheet\";\n",
       "      element.type = \"text/css\";\n",
       "      element.href = url;\n",
       "      console.debug(\"Bokeh: injecting link tag for BokehJS stylesheet: \", url);\n",
       "      document.body.appendChild(element);\n",
       "    }\n",
       "\n",
       "    for (let i = 0; i < js_urls.length; i++) {\n",
       "      const url = js_urls[i];\n",
       "      const element = document.createElement('script');\n",
       "      element.onload = on_load;\n",
       "      element.onerror = on_error.bind(null, url);\n",
       "      element.async = false;\n",
       "      element.src = url;\n",
       "      console.debug(\"Bokeh: injecting script tag for BokehJS library: \", url);\n",
       "      document.head.appendChild(element);\n",
       "    }\n",
       "  };\n",
       "\n",
       "  function inject_raw_css(css) {\n",
       "    const element = document.createElement(\"style\");\n",
       "    element.appendChild(document.createTextNode(css));\n",
       "    document.body.appendChild(element);\n",
       "  }\n",
       "\n",
       "  const js_urls = [\"https://cdn.bokeh.org/bokeh/release/bokeh-3.3.0.min.js\", \"https://cdn.bokeh.org/bokeh/release/bokeh-gl-3.3.0.min.js\", \"https://cdn.bokeh.org/bokeh/release/bokeh-widgets-3.3.0.min.js\", \"https://cdn.bokeh.org/bokeh/release/bokeh-tables-3.3.0.min.js\", \"https://cdn.bokeh.org/bokeh/release/bokeh-mathjax-3.3.0.min.js\"];\n",
       "  const css_urls = [];\n",
       "\n",
       "  const inline_js = [    function(Bokeh) {\n",
       "      Bokeh.set_log_level(\"info\");\n",
       "    },\n",
       "function(Bokeh) {\n",
       "    }\n",
       "  ];\n",
       "\n",
       "  function run_inline_js() {\n",
       "    if (root.Bokeh !== undefined || force === true) {\n",
       "          for (let i = 0; i < inline_js.length; i++) {\n",
       "      inline_js[i].call(root, root.Bokeh);\n",
       "    }\n",
       "if (force === true) {\n",
       "        display_loaded();\n",
       "      }} else if (Date.now() < root._bokeh_timeout) {\n",
       "      setTimeout(run_inline_js, 100);\n",
       "    } else if (!root._bokeh_failed_load) {\n",
       "      console.log(\"Bokeh: BokehJS failed to load within specified timeout.\");\n",
       "      root._bokeh_failed_load = true;\n",
       "    } else if (force !== true) {\n",
       "      const cell = $(document.getElementById(\"aae8190e-b58d-4674-830b-07f492da1467\")).parents('.cell').data().cell;\n",
       "      cell.output_area.append_execute_result(NB_LOAD_WARNING)\n",
       "    }\n",
       "  }\n",
       "\n",
       "  if (root._bokeh_is_loading === 0) {\n",
       "    console.debug(\"Bokeh: BokehJS loaded, going straight to plotting\");\n",
       "    run_inline_js();\n",
       "  } else {\n",
       "    load_libs(css_urls, js_urls, function() {\n",
       "      console.debug(\"Bokeh: BokehJS plotting callback run at\", now());\n",
       "      run_inline_js();\n",
       "    });\n",
       "  }\n",
       "}(window));"
      ],
      "application/vnd.bokehjs_load.v0+json": "(function(root) {\n  function now() {\n    return new Date();\n  }\n\n  const force = true;\n\n  if (typeof root._bokeh_onload_callbacks === \"undefined\" || force === true) {\n    root._bokeh_onload_callbacks = [];\n    root._bokeh_is_loading = undefined;\n  }\n\n\n  if (typeof (root._bokeh_timeout) === \"undefined\" || force === true) {\n    root._bokeh_timeout = Date.now() + 5000;\n    root._bokeh_failed_load = false;\n  }\n\n  const NB_LOAD_WARNING = {'data': {'text/html':\n     \"<div style='background-color: #fdd'>\\n\"+\n     \"<p>\\n\"+\n     \"BokehJS does not appear to have successfully loaded. If loading BokehJS from CDN, this \\n\"+\n     \"may be due to a slow or bad network connection. Possible fixes:\\n\"+\n     \"</p>\\n\"+\n     \"<ul>\\n\"+\n     \"<li>re-rerun `output_notebook()` to attempt to load from CDN again, or</li>\\n\"+\n     \"<li>use INLINE resources instead, as so:</li>\\n\"+\n     \"</ul>\\n\"+\n     \"<code>\\n\"+\n     \"from bokeh.resources import INLINE\\n\"+\n     \"output_notebook(resources=INLINE)\\n\"+\n     \"</code>\\n\"+\n     \"</div>\"}};\n\n  function display_loaded() {\n    const el = document.getElementById(\"aae8190e-b58d-4674-830b-07f492da1467\");\n    if (el != null) {\n      el.textContent = \"BokehJS is loading...\";\n    }\n    if (root.Bokeh !== undefined) {\n      if (el != null) {\n        el.textContent = \"BokehJS \" + root.Bokeh.version + \" successfully loaded.\";\n      }\n    } else if (Date.now() < root._bokeh_timeout) {\n      setTimeout(display_loaded, 100)\n    }\n  }\n\n  function run_callbacks() {\n    try {\n      root._bokeh_onload_callbacks.forEach(function(callback) {\n        if (callback != null)\n          callback();\n      });\n    } finally {\n      delete root._bokeh_onload_callbacks\n    }\n    console.debug(\"Bokeh: all callbacks have finished\");\n  }\n\n  function load_libs(css_urls, js_urls, callback) {\n    if (css_urls == null) css_urls = [];\n    if (js_urls == null) js_urls = [];\n\n    root._bokeh_onload_callbacks.push(callback);\n    if (root._bokeh_is_loading > 0) {\n      console.debug(\"Bokeh: BokehJS is being loaded, scheduling callback at\", now());\n      return null;\n    }\n    if (js_urls == null || js_urls.length === 0) {\n      run_callbacks();\n      return null;\n    }\n    console.debug(\"Bokeh: BokehJS not loaded, scheduling load and callback at\", now());\n    root._bokeh_is_loading = css_urls.length + js_urls.length;\n\n    function on_load() {\n      root._bokeh_is_loading--;\n      if (root._bokeh_is_loading === 0) {\n        console.debug(\"Bokeh: all BokehJS libraries/stylesheets loaded\");\n        run_callbacks()\n      }\n    }\n\n    function on_error(url) {\n      console.error(\"failed to load \" + url);\n    }\n\n    for (let i = 0; i < css_urls.length; i++) {\n      const url = css_urls[i];\n      const element = document.createElement(\"link\");\n      element.onload = on_load;\n      element.onerror = on_error.bind(null, url);\n      element.rel = \"stylesheet\";\n      element.type = \"text/css\";\n      element.href = url;\n      console.debug(\"Bokeh: injecting link tag for BokehJS stylesheet: \", url);\n      document.body.appendChild(element);\n    }\n\n    for (let i = 0; i < js_urls.length; i++) {\n      const url = js_urls[i];\n      const element = document.createElement('script');\n      element.onload = on_load;\n      element.onerror = on_error.bind(null, url);\n      element.async = false;\n      element.src = url;\n      console.debug(\"Bokeh: injecting script tag for BokehJS library: \", url);\n      document.head.appendChild(element);\n    }\n  };\n\n  function inject_raw_css(css) {\n    const element = document.createElement(\"style\");\n    element.appendChild(document.createTextNode(css));\n    document.body.appendChild(element);\n  }\n\n  const js_urls = [\"https://cdn.bokeh.org/bokeh/release/bokeh-3.3.0.min.js\", \"https://cdn.bokeh.org/bokeh/release/bokeh-gl-3.3.0.min.js\", \"https://cdn.bokeh.org/bokeh/release/bokeh-widgets-3.3.0.min.js\", \"https://cdn.bokeh.org/bokeh/release/bokeh-tables-3.3.0.min.js\", \"https://cdn.bokeh.org/bokeh/release/bokeh-mathjax-3.3.0.min.js\"];\n  const css_urls = [];\n\n  const inline_js = [    function(Bokeh) {\n      Bokeh.set_log_level(\"info\");\n    },\nfunction(Bokeh) {\n    }\n  ];\n\n  function run_inline_js() {\n    if (root.Bokeh !== undefined || force === true) {\n          for (let i = 0; i < inline_js.length; i++) {\n      inline_js[i].call(root, root.Bokeh);\n    }\nif (force === true) {\n        display_loaded();\n      }} else if (Date.now() < root._bokeh_timeout) {\n      setTimeout(run_inline_js, 100);\n    } else if (!root._bokeh_failed_load) {\n      console.log(\"Bokeh: BokehJS failed to load within specified timeout.\");\n      root._bokeh_failed_load = true;\n    } else if (force !== true) {\n      const cell = $(document.getElementById(\"aae8190e-b58d-4674-830b-07f492da1467\")).parents('.cell').data().cell;\n      cell.output_area.append_execute_result(NB_LOAD_WARNING)\n    }\n  }\n\n  if (root._bokeh_is_loading === 0) {\n    console.debug(\"Bokeh: BokehJS loaded, going straight to plotting\");\n    run_inline_js();\n  } else {\n    load_libs(css_urls, js_urls, function() {\n      console.debug(\"Bokeh: BokehJS plotting callback run at\", now());\n      run_inline_js();\n    });\n  }\n}(window));"
     },
     "metadata": {},
     "output_type": "display_data"
    },
    {
     "data": {
      "text/html": [
       "\n",
       "  <div id=\"b8d3011c-528a-478f-9820-2cc1df4904fd\" data-root-id=\"p1134\" style=\"display: contents;\"></div>\n"
      ]
     },
     "metadata": {},
     "output_type": "display_data"
    },
    {
     "data": {
      "application/javascript": [
       "(function(root) {\n",
       "  function embed_document(root) {\n",
       "  const docs_json = {\"0b67d2dd-808c-4cbc-ae0a-2d1df66bd03a\":{\"version\":\"3.3.0\",\"title\":\"Bokeh Application\",\"roots\":[{\"type\":\"object\",\"name\":\"Figure\",\"id\":\"p1134\",\"attributes\":{\"width\":800,\"x_range\":{\"type\":\"object\",\"name\":\"DataRange1d\",\"id\":\"p1135\"},\"y_range\":{\"type\":\"object\",\"name\":\"DataRange1d\",\"id\":\"p1136\"},\"x_scale\":{\"type\":\"object\",\"name\":\"LinearScale\",\"id\":\"p1144\"},\"y_scale\":{\"type\":\"object\",\"name\":\"LinearScale\",\"id\":\"p1145\"},\"title\":{\"type\":\"object\",\"name\":\"Title\",\"id\":\"p1137\",\"attributes\":{\"text\":\"High Agility Spider Population Dynamics\"}},\"renderers\":[{\"type\":\"object\",\"name\":\"GlyphRenderer\",\"id\":\"p1198\",\"attributes\":{\"data_source\":{\"type\":\"object\",\"name\":\"ColumnDataSource\",\"id\":\"p1128\",\"attributes\":{\"selected\":{\"type\":\"object\",\"name\":\"Selection\",\"id\":\"p1129\",\"attributes\":{\"indices\":[],\"line_indices\":[]}},\"selection_policy\":{\"type\":\"object\",\"name\":\"UnionRenderers\",\"id\":\"p1130\"},\"data\":{\"type\":\"map\",\"entries\":[[\"time\",[0,1,2,3,4,5,6,7,8,9]],[\"population\",[2458,6163,15460,38668,96421,240697,601282,1502617,3756274,9390892]],[\"males\",[514,1223,3064,7724,19417,48329,120502,300837,751398,1878068]],[\"females\",[486,1235,3099,7736,19251,48092,120195,300445,751219,1878206]]]}}},\"view\":{\"type\":\"object\",\"name\":\"CDSView\",\"id\":\"p1199\",\"attributes\":{\"filter\":{\"type\":\"object\",\"name\":\"AllIndices\",\"id\":\"p1200\"}}},\"glyph\":{\"type\":\"object\",\"name\":\"Line\",\"id\":\"p1195\",\"attributes\":{\"x\":{\"type\":\"field\",\"field\":\"time\"},\"y\":{\"type\":\"field\",\"field\":\"population\"},\"line_color\":\"red\"}},\"nonselection_glyph\":{\"type\":\"object\",\"name\":\"Line\",\"id\":\"p1196\",\"attributes\":{\"x\":{\"type\":\"field\",\"field\":\"time\"},\"y\":{\"type\":\"field\",\"field\":\"population\"},\"line_color\":\"red\",\"line_alpha\":0.1}},\"muted_glyph\":{\"type\":\"object\",\"name\":\"Line\",\"id\":\"p1197\",\"attributes\":{\"x\":{\"type\":\"field\",\"field\":\"time\"},\"y\":{\"type\":\"field\",\"field\":\"population\"},\"line_color\":\"red\",\"line_alpha\":0.2}}}},{\"type\":\"object\",\"name\":\"GlyphRenderer\",\"id\":\"p1209\",\"attributes\":{\"data_source\":{\"id\":\"p1128\"},\"view\":{\"type\":\"object\",\"name\":\"CDSView\",\"id\":\"p1210\",\"attributes\":{\"filter\":{\"type\":\"object\",\"name\":\"AllIndices\",\"id\":\"p1211\"}}},\"glyph\":{\"type\":\"object\",\"name\":\"Line\",\"id\":\"p1206\",\"attributes\":{\"x\":{\"type\":\"field\",\"field\":\"time\"},\"y\":{\"type\":\"field\",\"field\":\"males\"},\"line_color\":\"blue\"}},\"nonselection_glyph\":{\"type\":\"object\",\"name\":\"Line\",\"id\":\"p1207\",\"attributes\":{\"x\":{\"type\":\"field\",\"field\":\"time\"},\"y\":{\"type\":\"field\",\"field\":\"males\"},\"line_color\":\"blue\",\"line_alpha\":0.1}},\"muted_glyph\":{\"type\":\"object\",\"name\":\"Line\",\"id\":\"p1208\",\"attributes\":{\"x\":{\"type\":\"field\",\"field\":\"time\"},\"y\":{\"type\":\"field\",\"field\":\"males\"},\"line_color\":\"blue\",\"line_alpha\":0.2}}}},{\"type\":\"object\",\"name\":\"GlyphRenderer\",\"id\":\"p1219\",\"attributes\":{\"data_source\":{\"id\":\"p1128\"},\"view\":{\"type\":\"object\",\"name\":\"CDSView\",\"id\":\"p1220\",\"attributes\":{\"filter\":{\"type\":\"object\",\"name\":\"AllIndices\",\"id\":\"p1221\"}}},\"glyph\":{\"type\":\"object\",\"name\":\"Line\",\"id\":\"p1216\",\"attributes\":{\"x\":{\"type\":\"field\",\"field\":\"time\"},\"y\":{\"type\":\"field\",\"field\":\"females\"},\"line_color\":\"green\"}},\"nonselection_glyph\":{\"type\":\"object\",\"name\":\"Line\",\"id\":\"p1217\",\"attributes\":{\"x\":{\"type\":\"field\",\"field\":\"time\"},\"y\":{\"type\":\"field\",\"field\":\"females\"},\"line_color\":\"green\",\"line_alpha\":0.1}},\"muted_glyph\":{\"type\":\"object\",\"name\":\"Line\",\"id\":\"p1218\",\"attributes\":{\"x\":{\"type\":\"field\",\"field\":\"time\"},\"y\":{\"type\":\"field\",\"field\":\"females\"},\"line_color\":\"green\",\"line_alpha\":0.2}}}}],\"toolbar\":{\"type\":\"object\",\"name\":\"Toolbar\",\"id\":\"p1143\",\"attributes\":{\"tools\":[{\"type\":\"object\",\"name\":\"PanTool\",\"id\":\"p1156\"},{\"type\":\"object\",\"name\":\"WheelZoomTool\",\"id\":\"p1157\",\"attributes\":{\"renderers\":\"auto\"}},{\"type\":\"object\",\"name\":\"BoxZoomTool\",\"id\":\"p1158\",\"attributes\":{\"overlay\":{\"type\":\"object\",\"name\":\"BoxAnnotation\",\"id\":\"p1159\",\"attributes\":{\"syncable\":false,\"level\":\"overlay\",\"visible\":false,\"left_units\":\"canvas\",\"right_units\":\"canvas\",\"top_units\":\"canvas\",\"bottom_units\":\"canvas\",\"line_color\":\"black\",\"line_alpha\":1.0,\"line_width\":2,\"line_dash\":[4,4],\"fill_color\":\"lightgrey\",\"fill_alpha\":0.5}}}},{\"type\":\"object\",\"name\":\"SaveTool\",\"id\":\"p1160\"},{\"type\":\"object\",\"name\":\"ResetTool\",\"id\":\"p1161\"},{\"type\":\"object\",\"name\":\"HelpTool\",\"id\":\"p1162\"},{\"type\":\"object\",\"name\":\"HoverTool\",\"id\":\"p1223\",\"attributes\":{\"renderers\":\"auto\",\"tooltips\":[[\"Time\",\"@time\"],[\"Total\",\"@population\"],[\"Males\",\"@males\"],[\"Females\",\"@females\"]]}}]}},\"left\":[{\"type\":\"object\",\"name\":\"LinearAxis\",\"id\":\"p1151\",\"attributes\":{\"ticker\":{\"type\":\"object\",\"name\":\"BasicTicker\",\"id\":\"p1152\",\"attributes\":{\"mantissas\":[1,2,5]}},\"formatter\":{\"type\":\"object\",\"name\":\"BasicTickFormatter\",\"id\":\"p1153\"},\"axis_label\":\"Population\",\"major_label_policy\":{\"type\":\"object\",\"name\":\"AllLabels\",\"id\":\"p1154\"}}}],\"below\":[{\"type\":\"object\",\"name\":\"LinearAxis\",\"id\":\"p1146\",\"attributes\":{\"ticker\":{\"type\":\"object\",\"name\":\"BasicTicker\",\"id\":\"p1147\",\"attributes\":{\"mantissas\":[1,2,5]}},\"formatter\":{\"type\":\"object\",\"name\":\"BasicTickFormatter\",\"id\":\"p1148\"},\"axis_label\":\"Time (Generations)\",\"major_label_policy\":{\"type\":\"object\",\"name\":\"AllLabels\",\"id\":\"p1149\"}}}],\"center\":[{\"type\":\"object\",\"name\":\"Grid\",\"id\":\"p1150\",\"attributes\":{\"axis\":{\"id\":\"p1146\"}}},{\"type\":\"object\",\"name\":\"Grid\",\"id\":\"p1155\",\"attributes\":{\"dimension\":1,\"axis\":{\"id\":\"p1151\"}}},{\"type\":\"object\",\"name\":\"Legend\",\"id\":\"p1201\",\"attributes\":{\"items\":[{\"type\":\"object\",\"name\":\"LegendItem\",\"id\":\"p1202\",\"attributes\":{\"label\":{\"type\":\"value\",\"value\":\"Total High Agility\"},\"renderers\":[{\"id\":\"p1198\"}]}},{\"type\":\"object\",\"name\":\"LegendItem\",\"id\":\"p1212\",\"attributes\":{\"label\":{\"type\":\"value\",\"value\":\"Males High Agility\"},\"renderers\":[{\"id\":\"p1209\"}]}},{\"type\":\"object\",\"name\":\"LegendItem\",\"id\":\"p1222\",\"attributes\":{\"label\":{\"type\":\"value\",\"value\":\"Females High Agility\"},\"renderers\":[{\"id\":\"p1219\"}]}}]}}]}}]}};\n",
       "  const render_items = [{\"docid\":\"0b67d2dd-808c-4cbc-ae0a-2d1df66bd03a\",\"roots\":{\"p1134\":\"b8d3011c-528a-478f-9820-2cc1df4904fd\"},\"root_ids\":[\"p1134\"]}];\n",
       "  root.Bokeh.embed.embed_items_notebook(docs_json, render_items);\n",
       "  }\n",
       "  if (root.Bokeh !== undefined) {\n",
       "    embed_document(root);\n",
       "  } else {\n",
       "    let attempts = 0;\n",
       "    const timer = setInterval(function(root) {\n",
       "      if (root.Bokeh !== undefined) {\n",
       "        clearInterval(timer);\n",
       "        embed_document(root);\n",
       "      } else {\n",
       "        attempts++;\n",
       "        if (attempts > 100) {\n",
       "          clearInterval(timer);\n",
       "          console.log(\"Bokeh: ERROR: Unable to run BokehJS code because BokehJS library is missing\");\n",
       "        }\n",
       "      }\n",
       "    }, 10, root)\n",
       "  }\n",
       "})(window);"
      ],
      "application/vnd.bokehjs_exec.v0+json": ""
     },
     "metadata": {
      "application/vnd.bokehjs_exec.v0+json": {
       "id": "p1134"
      }
     },
     "output_type": "display_data"
    },
    {
     "data": {
      "text/html": [
       "\n",
       "  <div id=\"a9e70162-321a-4ab2-b92e-2bb605141be3\" data-root-id=\"p1163\" style=\"display: contents;\"></div>\n"
      ]
     },
     "metadata": {},
     "output_type": "display_data"
    },
    {
     "data": {
      "application/javascript": [
       "(function(root) {\n",
       "  function embed_document(root) {\n",
       "  const docs_json = {\"672be843-a9db-431d-8aee-3c7410908926\":{\"version\":\"3.3.0\",\"title\":\"Bokeh Application\",\"roots\":[{\"type\":\"object\",\"name\":\"Figure\",\"id\":\"p1163\",\"attributes\":{\"width\":800,\"x_range\":{\"type\":\"object\",\"name\":\"DataRange1d\",\"id\":\"p1164\"},\"y_range\":{\"type\":\"object\",\"name\":\"DataRange1d\",\"id\":\"p1165\"},\"x_scale\":{\"type\":\"object\",\"name\":\"LinearScale\",\"id\":\"p1173\"},\"y_scale\":{\"type\":\"object\",\"name\":\"LinearScale\",\"id\":\"p1174\"},\"title\":{\"type\":\"object\",\"name\":\"Title\",\"id\":\"p1166\",\"attributes\":{\"text\":\"Low Agility Spider Population Dynamics\"}},\"renderers\":[{\"type\":\"object\",\"name\":\"GlyphRenderer\",\"id\":\"p1230\",\"attributes\":{\"data_source\":{\"type\":\"object\",\"name\":\"ColumnDataSource\",\"id\":\"p1131\",\"attributes\":{\"selected\":{\"type\":\"object\",\"name\":\"Selection\",\"id\":\"p1132\",\"attributes\":{\"indices\":[],\"line_indices\":[]}},\"selection_policy\":{\"type\":\"object\",\"name\":\"UnionRenderers\",\"id\":\"p1133\"},\"data\":{\"type\":\"map\",\"entries\":[[\"time\",[0,1,2,3,4,5,6,7,8,9]],[\"population\",[2452,6064,15151,37750,94126,234835,586201,1464454,3659395,9148066]],[\"males\",[516,1248,3035,7618,18958,47223,117713,293450,732807,1829838]],[\"females\",[484,1204,3029,7533,18792,46903,117122,292751,731647,1829557]]]}}},\"view\":{\"type\":\"object\",\"name\":\"CDSView\",\"id\":\"p1231\",\"attributes\":{\"filter\":{\"type\":\"object\",\"name\":\"AllIndices\",\"id\":\"p1232\"}}},\"glyph\":{\"type\":\"object\",\"name\":\"Line\",\"id\":\"p1227\",\"attributes\":{\"x\":{\"type\":\"field\",\"field\":\"time\"},\"y\":{\"type\":\"field\",\"field\":\"population\"},\"line_color\":\"red\"}},\"nonselection_glyph\":{\"type\":\"object\",\"name\":\"Line\",\"id\":\"p1228\",\"attributes\":{\"x\":{\"type\":\"field\",\"field\":\"time\"},\"y\":{\"type\":\"field\",\"field\":\"population\"},\"line_color\":\"red\",\"line_alpha\":0.1}},\"muted_glyph\":{\"type\":\"object\",\"name\":\"Line\",\"id\":\"p1229\",\"attributes\":{\"x\":{\"type\":\"field\",\"field\":\"time\"},\"y\":{\"type\":\"field\",\"field\":\"population\"},\"line_color\":\"red\",\"line_alpha\":0.2}}}},{\"type\":\"object\",\"name\":\"GlyphRenderer\",\"id\":\"p1241\",\"attributes\":{\"data_source\":{\"id\":\"p1131\"},\"view\":{\"type\":\"object\",\"name\":\"CDSView\",\"id\":\"p1242\",\"attributes\":{\"filter\":{\"type\":\"object\",\"name\":\"AllIndices\",\"id\":\"p1243\"}}},\"glyph\":{\"type\":\"object\",\"name\":\"Line\",\"id\":\"p1238\",\"attributes\":{\"x\":{\"type\":\"field\",\"field\":\"time\"},\"y\":{\"type\":\"field\",\"field\":\"males\"},\"line_color\":\"blue\"}},\"nonselection_glyph\":{\"type\":\"object\",\"name\":\"Line\",\"id\":\"p1239\",\"attributes\":{\"x\":{\"type\":\"field\",\"field\":\"time\"},\"y\":{\"type\":\"field\",\"field\":\"males\"},\"line_color\":\"blue\",\"line_alpha\":0.1}},\"muted_glyph\":{\"type\":\"object\",\"name\":\"Line\",\"id\":\"p1240\",\"attributes\":{\"x\":{\"type\":\"field\",\"field\":\"time\"},\"y\":{\"type\":\"field\",\"field\":\"males\"},\"line_color\":\"blue\",\"line_alpha\":0.2}}}},{\"type\":\"object\",\"name\":\"GlyphRenderer\",\"id\":\"p1251\",\"attributes\":{\"data_source\":{\"id\":\"p1131\"},\"view\":{\"type\":\"object\",\"name\":\"CDSView\",\"id\":\"p1252\",\"attributes\":{\"filter\":{\"type\":\"object\",\"name\":\"AllIndices\",\"id\":\"p1253\"}}},\"glyph\":{\"type\":\"object\",\"name\":\"Line\",\"id\":\"p1248\",\"attributes\":{\"x\":{\"type\":\"field\",\"field\":\"time\"},\"y\":{\"type\":\"field\",\"field\":\"females\"},\"line_color\":\"green\"}},\"nonselection_glyph\":{\"type\":\"object\",\"name\":\"Line\",\"id\":\"p1249\",\"attributes\":{\"x\":{\"type\":\"field\",\"field\":\"time\"},\"y\":{\"type\":\"field\",\"field\":\"females\"},\"line_color\":\"green\",\"line_alpha\":0.1}},\"muted_glyph\":{\"type\":\"object\",\"name\":\"Line\",\"id\":\"p1250\",\"attributes\":{\"x\":{\"type\":\"field\",\"field\":\"time\"},\"y\":{\"type\":\"field\",\"field\":\"females\"},\"line_color\":\"green\",\"line_alpha\":0.2}}}}],\"toolbar\":{\"type\":\"object\",\"name\":\"Toolbar\",\"id\":\"p1172\",\"attributes\":{\"tools\":[{\"type\":\"object\",\"name\":\"PanTool\",\"id\":\"p1185\"},{\"type\":\"object\",\"name\":\"WheelZoomTool\",\"id\":\"p1186\",\"attributes\":{\"renderers\":\"auto\"}},{\"type\":\"object\",\"name\":\"BoxZoomTool\",\"id\":\"p1187\",\"attributes\":{\"overlay\":{\"type\":\"object\",\"name\":\"BoxAnnotation\",\"id\":\"p1188\",\"attributes\":{\"syncable\":false,\"level\":\"overlay\",\"visible\":false,\"left_units\":\"canvas\",\"right_units\":\"canvas\",\"top_units\":\"canvas\",\"bottom_units\":\"canvas\",\"line_color\":\"black\",\"line_alpha\":1.0,\"line_width\":2,\"line_dash\":[4,4],\"fill_color\":\"lightgrey\",\"fill_alpha\":0.5}}}},{\"type\":\"object\",\"name\":\"SaveTool\",\"id\":\"p1189\"},{\"type\":\"object\",\"name\":\"ResetTool\",\"id\":\"p1190\"},{\"type\":\"object\",\"name\":\"HelpTool\",\"id\":\"p1191\"},{\"type\":\"object\",\"name\":\"HoverTool\",\"id\":\"p1255\",\"attributes\":{\"renderers\":\"auto\",\"tooltips\":[[\"Time\",\"@time\"],[\"Total\",\"@population\"],[\"Males\",\"@males\"],[\"Females\",\"@females\"]]}}]}},\"left\":[{\"type\":\"object\",\"name\":\"LinearAxis\",\"id\":\"p1180\",\"attributes\":{\"ticker\":{\"type\":\"object\",\"name\":\"BasicTicker\",\"id\":\"p1181\",\"attributes\":{\"mantissas\":[1,2,5]}},\"formatter\":{\"type\":\"object\",\"name\":\"BasicTickFormatter\",\"id\":\"p1182\"},\"axis_label\":\"Population\",\"major_label_policy\":{\"type\":\"object\",\"name\":\"AllLabels\",\"id\":\"p1183\"}}}],\"below\":[{\"type\":\"object\",\"name\":\"LinearAxis\",\"id\":\"p1175\",\"attributes\":{\"ticker\":{\"type\":\"object\",\"name\":\"BasicTicker\",\"id\":\"p1176\",\"attributes\":{\"mantissas\":[1,2,5]}},\"formatter\":{\"type\":\"object\",\"name\":\"BasicTickFormatter\",\"id\":\"p1177\"},\"axis_label\":\"Time (Generations)\",\"major_label_policy\":{\"type\":\"object\",\"name\":\"AllLabels\",\"id\":\"p1178\"}}}],\"center\":[{\"type\":\"object\",\"name\":\"Grid\",\"id\":\"p1179\",\"attributes\":{\"axis\":{\"id\":\"p1175\"}}},{\"type\":\"object\",\"name\":\"Grid\",\"id\":\"p1184\",\"attributes\":{\"dimension\":1,\"axis\":{\"id\":\"p1180\"}}},{\"type\":\"object\",\"name\":\"Legend\",\"id\":\"p1233\",\"attributes\":{\"items\":[{\"type\":\"object\",\"name\":\"LegendItem\",\"id\":\"p1234\",\"attributes\":{\"label\":{\"type\":\"value\",\"value\":\"Total Low Agility\"},\"renderers\":[{\"id\":\"p1230\"}]}},{\"type\":\"object\",\"name\":\"LegendItem\",\"id\":\"p1244\",\"attributes\":{\"label\":{\"type\":\"value\",\"value\":\"Males Low Agility\"},\"renderers\":[{\"id\":\"p1241\"}]}},{\"type\":\"object\",\"name\":\"LegendItem\",\"id\":\"p1254\",\"attributes\":{\"label\":{\"type\":\"value\",\"value\":\"Females Low Agility\"},\"renderers\":[{\"id\":\"p1251\"}]}}]}}]}}]}};\n",
       "  const render_items = [{\"docid\":\"672be843-a9db-431d-8aee-3c7410908926\",\"roots\":{\"p1163\":\"a9e70162-321a-4ab2-b92e-2bb605141be3\"},\"root_ids\":[\"p1163\"]}];\n",
       "  root.Bokeh.embed.embed_items_notebook(docs_json, render_items);\n",
       "  }\n",
       "  if (root.Bokeh !== undefined) {\n",
       "    embed_document(root);\n",
       "  } else {\n",
       "    let attempts = 0;\n",
       "    const timer = setInterval(function(root) {\n",
       "      if (root.Bokeh !== undefined) {\n",
       "        clearInterval(timer);\n",
       "        embed_document(root);\n",
       "      } else {\n",
       "        attempts++;\n",
       "        if (attempts > 100) {\n",
       "          clearInterval(timer);\n",
       "          console.log(\"Bokeh: ERROR: Unable to run BokehJS code because BokehJS library is missing\");\n",
       "        }\n",
       "      }\n",
       "    }, 10, root)\n",
       "  }\n",
       "})(window);"
      ],
      "application/vnd.bokehjs_exec.v0+json": ""
     },
     "metadata": {
      "application/vnd.bokehjs_exec.v0+json": {
       "id": "p1163"
      }
     },
     "output_type": "display_data"
    }
   ],
   "source": [
    "# initializing two populations of spiders with different agility levels\n",
    "population_high_agility = [Spider(random.choice(['male', 'female']), calculate_agility(force, kinetic_energy[-1], hydraulic_pressure)) for _ in range(N)]\n",
    "population_low_agility = [Spider(random.choice(['male', 'female']), calculate_agility(force, kinetic_energy[-1], hydraulic_pressure)) for _ in range(N)]\n",
    "\n",
    "source_high_agility = ColumnDataSource(data=dict(time=[], population=[], males=[], females=[]))\n",
    "source_low_agility = ColumnDataSource(data=dict(time=[], population=[], males=[], females=[]))\n",
    "\n",
    "p_high_agility = figure(title=\"High Agility Spider Population Dynamics\", x_axis_label='Time (Generations)', y_axis_label='Population', width=800, height=600)\n",
    "p_low_agility = figure(title=\"Low Agility Spider Population Dynamics\", x_axis_label='Time (Generations)', y_axis_label='Population', width=800, height=600)\n",
    "\n",
    "for p, source, legend in [(p_high_agility, source_high_agility, \"High Agility\"), (p_low_agility, source_low_agility, \"Low Agility\")]:\n",
    "    p.line('time', 'population', source=source, line_color=\"red\", legend_label=f\"Total {legend}\")\n",
    "    p.line('time', 'males', source=source, line_color=\"blue\", legend_label=f\"Males {legend}\")\n",
    "    p.line('time', 'females', source=source, line_color=\"green\", legend_label=f\"Females {legend}\")\n",
    "    p.add_tools(HoverTool(tooltips=[(\"Time\", \"@time\"), (\"Total\", \"@population\"), (\"Males\", \"@males\"), (\"Females\", \"@females\")]))\n",
    "\n",
    "for i in range(time_steps):\n",
    "    for population, source in [(population_high_agility, source_high_agility), (population_low_agility, source_low_agility)]:\n",
    "        males = [spider for spider in population if spider.sex == 'male' and spider.alive]\n",
    "        females = [spider for spider in population if spider.sex == 'female']\n",
    "        \n",
    "        for female in females:\n",
    "            if males:\n",
    "                male = random.choice(males)\n",
    "                population += mating(male, female)\n",
    "        \n",
    "        \n",
    "        population = [spider for spider in population if spider.alive] # removing dead spiders\n",
    "\n",
    "        new_data = {'time': [i], 'population': [len(population)], 'males': [len(males)], 'females': [len(females)]}\n",
    "        source.stream(new_data)\n",
    "\n",
    "        print(f\"Generation {i+1} ({'High' if source == source_high_agility else 'Low'} Agility): {len(population)} spiders - {len(males)} males, {len(females)} females\")\n",
    "\n",
    "output_notebook()\n",
    "show(p_high_agility)\n",
    "show(p_low_agility)"
   ]
  },
  {
   "cell_type": "markdown",
   "id": "a44fac33",
   "metadata": {},
   "source": [
    "## Evidence of Intelligence and tool use"
   ]
  },
  {
   "cell_type": "markdown",
   "id": "ec3255d1",
   "metadata": {},
   "source": [
    "The Orb weaver spiders (Philoponella prominens) also show Intelligent behaviour and tool use evidenced by use of `safety lines` . They attach a silk still connected to their spinneret as safety lines and use them as anchors for the catapult jump which itself is a remarkable adaptive behavior with respect to cannibalism. The catapults success is a crucial for the male spiders as it increases the high agility male’s chances of survival and reproduction. Also, cannibalism behavior shown by female spiders ensures that the low agility spiders gets eliminated from the population. The safety line also prevents the male from falling or falling futher to the ground, and allows him to climb back to the female web for further mating.Coupled with the fact that spiders have a cenralised nervous system unlike othe rarthropods these behaviors demonstrate a high level of coordination, motor-control, navigating skills and adaptation to the environment, which may indicate some form of intelligence and problem-solving skills in spiders."
   ]
  },
  {
   "cell_type": "markdown",
   "id": "4485aef5",
   "metadata": {},
   "source": [
    "## Future Improvements\n",
    "\n",
    "We can improve the model's accuracy by accounting  for\n",
    "* healthy spiders failing to catapult due to environmental factors like wind.\n",
    "* also for some cases where male spiders(healthy) fall down before mating and then attempt to mate again, but fail to catapult successfully due to exhaustion.\n",
    "\n",
    "In both cases, the spider ends up dead but passes high agility genes to the offspring.\n",
    "Conversely, in some cases, agility spiders might successfully catapult to safety while passing on low-agility genes."
   ]
  },
  {
   "cell_type": "markdown",
   "id": "26468a8e",
   "metadata": {},
   "source": [
    "# Conclusion"
   ]
  },
  {
   "cell_type": "markdown",
   "id": "248c9b93",
   "metadata": {},
   "source": [
    "In this report, we discussed the remarkable behavior of the orb-weaver spider (Philoponella prominens) which uses a catapult mechanism and a safety line to avoid sexual cannibalism and increase its reproductive success. This behavior is an example of intelligence and tool use in a small-brained animal, which challenges the assumption that complex cognition is limited to large-brained animals. There are examples of similar intelligent behavior in other species of spiders, such as:\n",
    "\n",
    "* The nursery web spider Pisaura mirabilis, which ties up the female with silk before mating to prevent her from attacking.\n",
    "* The orb-weaver spider Nephila pilipes breaks off one of its legs and leaves it on the web as a decoy to distract the female while it mates.\n",
    "* The jumping spider Portia fimbriata, which plans out elaborate detours and strategies to hunt other spiders, and can even learn from its own mistakes.\n",
    "\n",
    "These examples show that spiders are capable of performing sophisticated tasks that require coordination, navigation skills, timing, adaptation, and problem-solving skills. They also suggest that spiders may have more cognitive abilities than previously thought, such as learning, memory, and decision-making. \n",
    "\n",
    "Some questions that we need to ask are how spiders process information with their tiny brains?  And do they cope with changing environments and real-time problem situations? etc to answer these questions, we need more research and experiments on spider behavior using methods that are suitable and ethical for these animals. By doing so, we can gain a better understanding of the diversity and evolution of cognition in the animal kingdom and appreciate the amazing abilities of these small but smart creatures."
   ]
  },
  {
   "cell_type": "markdown",
   "id": "946fc225",
   "metadata": {},
   "source": [
    "# References"
   ]
  },
  {
   "cell_type": "markdown",
   "id": "5cf7b258",
   "metadata": {},
   "source": [
    "* Smithsonian Magazine - Male Spider Catapults Itself Into the Air to Avoid Sexual Cannibalism:\n",
    "https://www.smithsonianmag.com/science-nature/this-male-spider-catapults-itself-into-the-air-to-avoid-sexual-cannibalism-180979966/\n",
    "\n",
    "* https://www.sciencedirect.com/science/article/pii/S0960982222004857\n",
    "\n",
    "* Current Biology_Correspondence - Male spiders avoid sexual cannibalism with a catapult mechanism:\n",
    "https://www.cell.com/action/showPdf?pii=S0960-9822%2822%2900485-7\n",
    "\n",
    "* Original Paper: https://www.cell.com/cms/10.1016/j.cub.2022.03.051/attachment/d61ece6c-0e32-4652-8b76-948664f63e46/mmc1.pdf\n",
    "\n",
    "* https://www.britannica.com/animal/spider-arachnid/Reproduction-and-life-cycle\n",
    "\n",
    "* https://sciencing.com/spiders-mate-4595717.html\n",
    "\n",
    "* Kinematic Equations - The Physics Classroom. https://www.physicsclassroom.com/class/1dkin/Lesson-6/Kinematic-Equations.\n",
    "\n",
    "*  Basics of Kinematics - Physics LibreTexts. https://phys.libretexts.org/Bookshelves/University_Physics/Physics_%28Boundless%29/2%3A_Kinematics/2.1%3A_Basics_of_Kinematics.\n",
    "\n",
    "* fluid Pressure in spiders: https://pubs.rsc.org/en/content/articlehtml/2021/sm/d1sm00338k#:~:text=During%20normal%20walking%2C%20spiders%20pressurize,e.g.%2C%20jumping%20and%20running).&text=Fig.,-1%20Hydraulic%20joint"
   ]
  }
 ],
 "metadata": {
  "kernelspec": {
   "display_name": "Python 3 (ipykernel)",
   "language": "python",
   "name": "python3"
  },
  "language_info": {
   "codemirror_mode": {
    "name": "ipython",
    "version": 3
   },
   "file_extension": ".py",
   "mimetype": "text/x-python",
   "name": "python",
   "nbconvert_exporter": "python",
   "pygments_lexer": "ipython3",
   "version": "3.9.18"
  }
 },
 "nbformat": 4,
 "nbformat_minor": 5
}
